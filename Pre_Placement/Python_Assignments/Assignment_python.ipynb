{
  "nbformat": 4,
  "nbformat_minor": 0,
  "metadata": {
    "colab": {
      "provenance": []
    },
    "kernelspec": {
      "name": "python3",
      "display_name": "Python 3"
    },
    "language_info": {
      "name": "python"
    }
  },
  "cells": [
    {
      "cell_type": "markdown",
      "source": [
        "### 1. Write a Python program to reverse a string without using any built-in string reversal functions.\n"
      ],
      "metadata": {
        "id": "ZlTXj35Ztwos"
      }
    },
    {
      "cell_type": "code",
      "source": [
        "def reverse_string(my_string):\n",
        "  return my_string[::-1]"
      ],
      "metadata": {
        "id": "jBexQLAutbVB"
      },
      "execution_count": 1,
      "outputs": []
    },
    {
      "cell_type": "code",
      "source": [
        "my_string= \"sohail\"\n",
        "reverse_string(my_string)"
      ],
      "metadata": {
        "colab": {
          "base_uri": "https://localhost:8080/",
          "height": 35
        },
        "id": "OXlYw0iWt99h",
        "outputId": "13f2248a-484c-4b14-d371-5e6035e6b763"
      },
      "execution_count": 2,
      "outputs": [
        {
          "output_type": "execute_result",
          "data": {
            "text/plain": [
              "'liahos'"
            ],
            "application/vnd.google.colaboratory.intrinsic+json": {
              "type": "string"
            }
          },
          "metadata": {},
          "execution_count": 2
        }
      ]
    },
    {
      "cell_type": "markdown",
      "source": [
        "### 2. Implement a function to check if a given string is a palindrome.\n"
      ],
      "metadata": {
        "id": "fe1sCazfuduE"
      }
    },
    {
      "cell_type": "code",
      "source": [
        "def palindrome_string(my_string):\n",
        "  duplicate = my_string[::-1]\n",
        "  if duplicate == my_string:\n",
        "    return True\n",
        "  else:\n",
        "    return False"
      ],
      "metadata": {
        "id": "6SqRQuRWuFqX"
      },
      "execution_count": 3,
      "outputs": []
    },
    {
      "cell_type": "code",
      "source": [
        "my_string = \"abcba\"\n",
        "palindrome_string(my_string)"
      ],
      "metadata": {
        "colab": {
          "base_uri": "https://localhost:8080/"
        },
        "id": "WijjcCz0u43a",
        "outputId": "31fc5a9a-39dd-4563-9cd0-18e185639aa8"
      },
      "execution_count": 4,
      "outputs": [
        {
          "output_type": "execute_result",
          "data": {
            "text/plain": [
              "True"
            ]
          },
          "metadata": {},
          "execution_count": 4
        }
      ]
    },
    {
      "cell_type": "markdown",
      "source": [
        "### 3. Write a program to find the largest element in a given list.\n"
      ],
      "metadata": {
        "id": "co4dr7DsvHNn"
      }
    },
    {
      "cell_type": "code",
      "source": [
        "def largest_element(my_list):\n",
        "  largest = my_list[0]\n",
        "  for element in my_list:\n",
        "    if element > largest:\n",
        "      largest = element\n",
        "  return largest"
      ],
      "metadata": {
        "id": "zrGZio7Mu6_g"
      },
      "execution_count": 5,
      "outputs": []
    },
    {
      "cell_type": "code",
      "source": [
        "my_list = [5, 4, 10, 25, 999, 100]\n",
        "largest_element(my_list)"
      ],
      "metadata": {
        "colab": {
          "base_uri": "https://localhost:8080/"
        },
        "id": "hQAasO-0vWs6",
        "outputId": "80b7f3a9-b88e-4ea1-9e94-68e668f5b4ee"
      },
      "execution_count": 6,
      "outputs": [
        {
          "output_type": "execute_result",
          "data": {
            "text/plain": [
              "999"
            ]
          },
          "metadata": {},
          "execution_count": 6
        }
      ]
    },
    {
      "cell_type": "markdown",
      "source": [
        "### 4. Implement a function to count the occurrence of each element in a list.\n"
      ],
      "metadata": {
        "id": "ZYnK6lkNvj8U"
      }
    },
    {
      "cell_type": "code",
      "source": [
        "def count_occurence(my_list, x):\n",
        "  count = 0\n",
        "  for elem in my_list:\n",
        "    if elem == x:\n",
        "      count += 1\n",
        "  return count\n",
        "\n",
        "my_list = [10, 21, 100, 10, 52, 10]\n",
        "count_occurence(my_list, 10)"
      ],
      "metadata": {
        "colab": {
          "base_uri": "https://localhost:8080/"
        },
        "id": "-jeITI09vb0H",
        "outputId": "5f2548cd-ae68-4743-b090-4e7e950d42ff"
      },
      "execution_count": 7,
      "outputs": [
        {
          "output_type": "execute_result",
          "data": {
            "text/plain": [
              "3"
            ]
          },
          "metadata": {},
          "execution_count": 7
        }
      ]
    },
    {
      "cell_type": "markdown",
      "source": [
        "### 5. Write a Python program to find the second largest number in a list.\n"
      ],
      "metadata": {
        "id": "F3L2Ni_EwqIe"
      }
    },
    {
      "cell_type": "code",
      "source": [
        "def second_largest(my_list):\n",
        "  my_list = set(my_list)\n",
        "  my_list = sorted(my_list)\n",
        "  return my_list[-2]\n",
        "\n",
        "my_list = [10, 125, 16, 9, 25]\n",
        "second_largest(my_list)"
      ],
      "metadata": {
        "colab": {
          "base_uri": "https://localhost:8080/"
        },
        "id": "j6oJ7Smbv_l_",
        "outputId": "9ca9a5e8-1945-4e38-891b-361bba2ce08a"
      },
      "execution_count": 8,
      "outputs": [
        {
          "output_type": "execute_result",
          "data": {
            "text/plain": [
              "25"
            ]
          },
          "metadata": {},
          "execution_count": 8
        }
      ]
    },
    {
      "cell_type": "markdown",
      "source": [
        "### 6. Implement a function to remove duplicate elements from a list.\n"
      ],
      "metadata": {
        "id": "YnH0DEdXyIa5"
      }
    },
    {
      "cell_type": "code",
      "source": [
        "def remove_duplicates(my_list):\n",
        "  return set(my_list)"
      ],
      "metadata": {
        "id": "bwbYmX_Mw_mw"
      },
      "execution_count": 9,
      "outputs": []
    },
    {
      "cell_type": "code",
      "source": [
        "remove_duplicates([10, 10, 25, 52, 643, 10])"
      ],
      "metadata": {
        "colab": {
          "base_uri": "https://localhost:8080/"
        },
        "id": "YQOoxv3xylEc",
        "outputId": "4ea59977-5f7e-4a9c-8d5c-d6b32f83f932"
      },
      "execution_count": 10,
      "outputs": [
        {
          "output_type": "execute_result",
          "data": {
            "text/plain": [
              "{10, 25, 52, 643}"
            ]
          },
          "metadata": {},
          "execution_count": 10
        }
      ]
    },
    {
      "cell_type": "markdown",
      "source": [
        "### 7. Write a program to calculate the factorial of a given number.\n"
      ],
      "metadata": {
        "id": "_o21ZhsLyr8W"
      }
    },
    {
      "cell_type": "code",
      "source": [
        "def factorial(n):\n",
        "  if n==1 or n==0:\n",
        "    return 1\n",
        "  return n*factorial(n-1)"
      ],
      "metadata": {
        "id": "QDH8D-Csyo2l"
      },
      "execution_count": 11,
      "outputs": []
    },
    {
      "cell_type": "code",
      "source": [
        "factorial(6)"
      ],
      "metadata": {
        "colab": {
          "base_uri": "https://localhost:8080/"
        },
        "id": "kwbrumFjy6ZV",
        "outputId": "88108b65-a573-4451-a2aa-920dbdb8cb9e"
      },
      "execution_count": 12,
      "outputs": [
        {
          "output_type": "execute_result",
          "data": {
            "text/plain": [
              "720"
            ]
          },
          "metadata": {},
          "execution_count": 12
        }
      ]
    },
    {
      "cell_type": "markdown",
      "source": [
        "### 8. Implement a function to check if a given number is prime.\n"
      ],
      "metadata": {
        "id": "JLuKVrmIzDyi"
      }
    },
    {
      "cell_type": "code",
      "source": [
        "def is_prime(n):\n",
        "  if n < 1 or n==0:\n",
        "    return 'Please enter a whole number'\n",
        "  if n > 1:\n",
        "    for i in range(2, int(n/2)+1):\n",
        "      if (n%i == 0):\n",
        "        return False\n",
        "      else:\n",
        "        return True\n",
        "\n",
        "is_prime(10)"
      ],
      "metadata": {
        "colab": {
          "base_uri": "https://localhost:8080/"
        },
        "id": "iSoLap7Iy7Uk",
        "outputId": "60e12a09-eafd-46d3-8484-320ab26fce92"
      },
      "execution_count": 13,
      "outputs": [
        {
          "output_type": "execute_result",
          "data": {
            "text/plain": [
              "False"
            ]
          },
          "metadata": {},
          "execution_count": 13
        }
      ]
    },
    {
      "cell_type": "code",
      "source": [
        "is_prime(17)"
      ],
      "metadata": {
        "colab": {
          "base_uri": "https://localhost:8080/"
        },
        "id": "iT13qThwzkTF",
        "outputId": "77ec3406-7894-4ee4-916a-1c5e926ec2df"
      },
      "execution_count": 14,
      "outputs": [
        {
          "output_type": "execute_result",
          "data": {
            "text/plain": [
              "True"
            ]
          },
          "metadata": {},
          "execution_count": 14
        }
      ]
    },
    {
      "cell_type": "markdown",
      "source": [
        "### 9. Write a Python program to sort a list of integers in ascending order.\n"
      ],
      "metadata": {
        "id": "vME-voUK18_5"
      }
    },
    {
      "cell_type": "code",
      "source": [
        "def sort_list(my_list):\n",
        "  return sorted(my_list)\n",
        "\n",
        "sort_list(my_list)"
      ],
      "metadata": {
        "colab": {
          "base_uri": "https://localhost:8080/"
        },
        "id": "mx-sknko08H8",
        "outputId": "f85c56d6-d7f2-43da-971b-830fb355f401"
      },
      "execution_count": 15,
      "outputs": [
        {
          "output_type": "execute_result",
          "data": {
            "text/plain": [
              "[9, 10, 16, 25, 125]"
            ]
          },
          "metadata": {},
          "execution_count": 15
        }
      ]
    },
    {
      "cell_type": "markdown",
      "source": [
        "### 10. Implement a function to find the sum of all numbers in a list.\n"
      ],
      "metadata": {
        "id": "4N2kk8uT2JuC"
      }
    },
    {
      "cell_type": "code",
      "source": [
        "def sum_numbers(my_list):\n",
        "  sum_ = 0\n",
        "  for x in my_list:\n",
        "    sum_+= x\n",
        "  return sum_"
      ],
      "metadata": {
        "id": "Sz723Y2K2D08"
      },
      "execution_count": 16,
      "outputs": []
    },
    {
      "cell_type": "code",
      "source": [
        "sum_numbers(my_list)"
      ],
      "metadata": {
        "colab": {
          "base_uri": "https://localhost:8080/"
        },
        "id": "_UWPCSak2a6z",
        "outputId": "e237f5cf-bb7b-4f6f-986c-3e58d7f1dfa4"
      },
      "execution_count": 17,
      "outputs": [
        {
          "output_type": "execute_result",
          "data": {
            "text/plain": [
              "185"
            ]
          },
          "metadata": {},
          "execution_count": 17
        }
      ]
    },
    {
      "cell_type": "code",
      "source": [
        "125+25+16+10+9"
      ],
      "metadata": {
        "colab": {
          "base_uri": "https://localhost:8080/"
        },
        "id": "49QBKfAp2dHK",
        "outputId": "a9573036-cf8e-4af2-8ead-b7df71f0bd43"
      },
      "execution_count": 18,
      "outputs": [
        {
          "output_type": "execute_result",
          "data": {
            "text/plain": [
              "185"
            ]
          },
          "metadata": {},
          "execution_count": 18
        }
      ]
    },
    {
      "cell_type": "markdown",
      "source": [
        "### 11. Write a program to find the common elements between two lists.\n"
      ],
      "metadata": {
        "id": "cOrRPlVp217y"
      }
    },
    {
      "cell_type": "code",
      "source": [
        "def common_elements(list_1, list_2):\n",
        "  com = []\n",
        "  for elem in list_1:\n",
        "    if elem in list_2:\n",
        "      com.append(elem)\n",
        "  return com\n",
        "\n",
        "list_1 = [5, 10, 135, 52]\n",
        "list_2 = [2, 5, 13, 10]\n",
        "common_elements(list_1, list_2)"
      ],
      "metadata": {
        "colab": {
          "base_uri": "https://localhost:8080/"
        },
        "id": "dq94xJbh26NA",
        "outputId": "5bd828ce-8a9e-49a8-bd45-38efe48d0e6c"
      },
      "execution_count": 19,
      "outputs": [
        {
          "output_type": "execute_result",
          "data": {
            "text/plain": [
              "[5, 10]"
            ]
          },
          "metadata": {},
          "execution_count": 19
        }
      ]
    },
    {
      "cell_type": "markdown",
      "source": [
        "### 12. Implement a function to check if a given string is an anagram of another string.\n"
      ],
      "metadata": {
        "id": "QP2lHVjR3Pkb"
      }
    },
    {
      "cell_type": "code",
      "source": [
        "def is_anagram(string1, string2):\n",
        "  string1 = string1.lower()\n",
        "  string2 = string2.lower()\n",
        "  if sorted(string1) == sorted(string2):\n",
        "    return True\n",
        "  return False\n",
        "\n",
        "is_anagram('listen', 'SILENT')"
      ],
      "metadata": {
        "colab": {
          "base_uri": "https://localhost:8080/"
        },
        "id": "7O2WlEk03VhX",
        "outputId": "9adc4577-be9c-47b5-e1b4-c6930c381af3"
      },
      "execution_count": 20,
      "outputs": [
        {
          "output_type": "execute_result",
          "data": {
            "text/plain": [
              "True"
            ]
          },
          "metadata": {},
          "execution_count": 20
        }
      ]
    },
    {
      "cell_type": "markdown",
      "source": [
        "### 13. Write a Python program to generate all permutations of a given string.\n"
      ],
      "metadata": {
        "id": "5Ab6FsOu4vlL"
      }
    },
    {
      "cell_type": "code",
      "source": [
        "def permute(s, answer):\n",
        "  if(len(s)==0):\n",
        "    print(answer, end=\" \")\n",
        "    return\n",
        "  for i in range(len(s)):\n",
        "    ch = s[i]\n",
        "    left_subtr = s[0:i]\n",
        "    right_substr = s[i+1:]\n",
        "    rest = left_subtr + right_substr\n",
        "    permute(rest, answer + ch)\n",
        "answer = \"\"\n",
        "\n",
        "s = \"ABC\"\n",
        "\n",
        "print(\"All possible strings are : \")\n",
        "permute(s, answer)"
      ],
      "metadata": {
        "colab": {
          "base_uri": "https://localhost:8080/"
        },
        "id": "w7vH5UNF30Vp",
        "outputId": "1c02f82e-7e6a-43b7-d10e-01c09a7dc119"
      },
      "execution_count": 21,
      "outputs": [
        {
          "output_type": "stream",
          "name": "stdout",
          "text": [
            "All possible strings are : \n",
            "ABC ACB BAC BCA CAB CBA "
          ]
        }
      ]
    },
    {
      "cell_type": "markdown",
      "source": [
        "### 14. Implement a function to calculate the Fibonacci sequence up to a given number of"
      ],
      "metadata": {
        "id": "n0R8gNJN6L1R"
      }
    },
    {
      "cell_type": "code",
      "source": [
        "def fibonacci_sequence(n):\n",
        "  if n == 0 or n == 1:\n",
        "    return n\n",
        "  if n==2:\n",
        "    return 1\n",
        "  return fibonacci_sequence(n-1) + fibonacci_sequence(n-2)"
      ],
      "metadata": {
        "id": "4TWesLzP6D8p"
      },
      "execution_count": 22,
      "outputs": []
    },
    {
      "cell_type": "code",
      "source": [
        "fibonacci_sequence(6)"
      ],
      "metadata": {
        "colab": {
          "base_uri": "https://localhost:8080/"
        },
        "id": "i3CIliOq6koj",
        "outputId": "f09698ab-6d37-4407-f7a1-ae0ec3dcb707"
      },
      "execution_count": 23,
      "outputs": [
        {
          "output_type": "execute_result",
          "data": {
            "text/plain": [
              "8"
            ]
          },
          "metadata": {},
          "execution_count": 23
        }
      ]
    },
    {
      "cell_type": "markdown",
      "source": [
        "### 15. Write a program to find the median of a list of numbers.\n"
      ],
      "metadata": {
        "id": "_pfv3qJF7NWP"
      }
    },
    {
      "cell_type": "code",
      "source": [
        "import numpy as np\n",
        "def median_np(my_list):\n",
        "  arr = np.array(my_list)\n",
        "  return np.median(arr)"
      ],
      "metadata": {
        "id": "Tn5K5Pl26meX"
      },
      "execution_count": 24,
      "outputs": []
    },
    {
      "cell_type": "code",
      "source": [
        "my_list"
      ],
      "metadata": {
        "colab": {
          "base_uri": "https://localhost:8080/"
        },
        "id": "krKxp8Ot7hFQ",
        "outputId": "18a723dc-351d-4fd8-fc6f-d9ec89c7077e"
      },
      "execution_count": 25,
      "outputs": [
        {
          "output_type": "execute_result",
          "data": {
            "text/plain": [
              "[10, 125, 16, 9, 25]"
            ]
          },
          "metadata": {},
          "execution_count": 25
        }
      ]
    },
    {
      "cell_type": "code",
      "source": [
        "median_np(my_list)"
      ],
      "metadata": {
        "colab": {
          "base_uri": "https://localhost:8080/"
        },
        "id": "ZNfmjMWV7ehZ",
        "outputId": "bf8cd1cc-656e-4264-9186-e51a02ed0275"
      },
      "execution_count": 26,
      "outputs": [
        {
          "output_type": "execute_result",
          "data": {
            "text/plain": [
              "16.0"
            ]
          },
          "metadata": {},
          "execution_count": 26
        }
      ]
    },
    {
      "cell_type": "markdown",
      "source": [
        "### 16. Implement a function to check if a given list is sorted in non-decreasing order.\n"
      ],
      "metadata": {
        "id": "DBOVOh708C3A"
      }
    },
    {
      "cell_type": "code",
      "source": [
        "def is_not_sorted(my_list):\n",
        "  my_sorted = sorted(my_list)\n",
        "  if my_sorted == my_list:\n",
        "    return False\n",
        "  else:\n",
        "    return True\n",
        "my_list = [1,2,3,4,5]\n",
        "is_not_sorted(my_list)"
      ],
      "metadata": {
        "colab": {
          "base_uri": "https://localhost:8080/"
        },
        "id": "QM1DBjRs7f5X",
        "outputId": "030d4d67-75bd-4a4e-dfa1-cde8ef692e10"
      },
      "execution_count": 27,
      "outputs": [
        {
          "output_type": "execute_result",
          "data": {
            "text/plain": [
              "False"
            ]
          },
          "metadata": {},
          "execution_count": 27
        }
      ]
    },
    {
      "cell_type": "markdown",
      "source": [
        "### 17. Write a Python program to find the intersection of two lists"
      ],
      "metadata": {
        "id": "MiqLMvKc815_"
      }
    },
    {
      "cell_type": "code",
      "source": [
        "class Point:\n",
        "  def __init__(self, x, y):\n",
        "    self.x = x\n",
        "    self.y = y\n",
        "\n",
        "  def displayPoint(self, p):\n",
        "    print(f\"({p.x}, {p.y})\")\n",
        "\n",
        "def lineLineIntersection(A, B, C, D):\n",
        "    # Line AB represented as a1x + b1y = c1\n",
        "    a1 = B.y - A.y\n",
        "    b1 = A.x - B.x\n",
        "    c1 = a1*(A.x) + b1*(A.y)\n",
        "\n",
        "    # Line CD represented as a2x + b2y = c2\n",
        "    a2 = D.y - C.y\n",
        "    b2 = C.x - D.x\n",
        "    c2 = a2*(C.x) + b2*(C.y)\n",
        "\n",
        "    determinant = a1*b2 - a2*b1\n",
        "\n",
        "    if (determinant == 0):\n",
        "        # The lines are parallel. This is simplified\n",
        "        # by returning a pair of FLT_MAX\n",
        "        return Point(10**9, 10**9)\n",
        "    else:\n",
        "        x = (b2*c1 - b1*c2)/determinant\n",
        "        y = (a1*c2 - a2*c1)/determinant\n",
        "        return Point(x, y)\n",
        "\n",
        "\n",
        "# Driver code\n",
        "A = Point(1, 1)\n",
        "B = Point(4, 4)\n",
        "C = Point(1, 8)\n",
        "D = Point(2, 4)\n",
        "\n",
        "intersection = lineLineIntersection(A, B, C, D)\n",
        "\n",
        "if (intersection.x == 10**9 and intersection.y == 10**9):\n",
        "    print(\"The given lines AB and CD are parallel.\")\n",
        "else:\n",
        "    # NOTE: Further check can be applied in case\n",
        "    # of line segments. Here, we have considered AB\n",
        "    # and CD as lines\n",
        "    print(\"The intersection of the given lines AB \" + \"and CD is: \")\n",
        "    intersection.displayPoint(intersection)\n"
      ],
      "metadata": {
        "colab": {
          "base_uri": "https://localhost:8080/"
        },
        "id": "MjQbAlKH8qG1",
        "outputId": "312de41b-95b7-4e6f-ac42-e236bf03b3e3"
      },
      "execution_count": 28,
      "outputs": [
        {
          "output_type": "stream",
          "name": "stdout",
          "text": [
            "The intersection of the given lines AB and CD is: \n",
            "(2.4, 2.4)\n"
          ]
        }
      ]
    },
    {
      "cell_type": "markdown",
      "source": [
        "### 18. Implement a function to find the maximum subarray sum in a given list.\n"
      ],
      "metadata": {
        "id": "39nYVvd1-oT-"
      }
    },
    {
      "cell_type": "code",
      "source": [
        "def maximum_subarray(my_list):\n",
        "  n = len(my_list)\n",
        "  if n==0:\n",
        "    return 'Empty'\n",
        "  if n==1:\n",
        "    return my_list[0]\n",
        "\n",
        "  max_sum = my_list[0]\n",
        "  current_sum = my_list[0]\n",
        "  for num in my_list[1:]:\n",
        "    current_sum = max(num, current_sum + num)\n",
        "    max_sum = max(max_sum, current_sum)\n",
        "  return max_sum\n",
        "\n",
        "my_list = [2, 3, -1, -4, -6]\n",
        "print(maximum_subarray(my_list))\n"
      ],
      "metadata": {
        "id": "gmVS1Wib-qe7",
        "colab": {
          "base_uri": "https://localhost:8080/"
        },
        "outputId": "111e6e07-abaf-4a2a-f00c-bcec31d86036"
      },
      "execution_count": 29,
      "outputs": [
        {
          "output_type": "stream",
          "name": "stdout",
          "text": [
            "5\n"
          ]
        }
      ]
    },
    {
      "cell_type": "markdown",
      "source": [
        "### 19. Write a program to remove all vowels from a given string.\n"
      ],
      "metadata": {
        "id": "IU8PhxVw8OwK"
      }
    },
    {
      "cell_type": "code",
      "source": [
        "def remove_vowels(my_string):\n",
        "  vowels = ['a', 'e', 'i', 'o', 'u', 'A', 'E', 'I', 'O', 'U']\n",
        "  result = \"\"\n",
        "  for ch in range(len(my_string)):\n",
        "    if my_string[ch] not in vowels:\n",
        "      result = result + my_string[ch]\n",
        "  return result\n",
        "my_string = \"sohail Parvez\"\n",
        "print(remove_vowels(my_string))"
      ],
      "metadata": {
        "colab": {
          "base_uri": "https://localhost:8080/"
        },
        "id": "u5PsAIiH8E5E",
        "outputId": "01ac5936-645b-4ef3-deb9-3f8040137cd5"
      },
      "execution_count": 30,
      "outputs": [
        {
          "output_type": "stream",
          "name": "stdout",
          "text": [
            "shl Prvz\n"
          ]
        }
      ]
    },
    {
      "cell_type": "markdown",
      "source": [
        "### 20. Implement a function to reverse the order of words in a given sentence."
      ],
      "metadata": {
        "id": "TR7Pjkda8muB"
      }
    },
    {
      "cell_type": "code",
      "source": [
        "def reverse_words(sent):\n",
        "  words = sent.split()\n",
        "  left = 0\n",
        "  right = len(words)-1\n",
        "  while left <= right:\n",
        "    words[left], words[right] = words[right], words[left]\n",
        "    left += 1\n",
        "    right -= 1\n",
        "  sent = \" \".join(words)\n",
        "  return sent\n",
        "\n",
        "sent = \"My Name is Sohail Parvez\"\n",
        "reverse_words(sent)"
      ],
      "metadata": {
        "colab": {
          "base_uri": "https://localhost:8080/",
          "height": 35
        },
        "id": "FMIJvfFH9enR",
        "outputId": "3fe987e1-c05a-4e2e-82dd-3fbc26490b25"
      },
      "execution_count": 31,
      "outputs": [
        {
          "output_type": "execute_result",
          "data": {
            "text/plain": [
              "'Parvez Sohail is Name My'"
            ],
            "application/vnd.google.colaboratory.intrinsic+json": {
              "type": "string"
            }
          },
          "metadata": {},
          "execution_count": 31
        }
      ]
    },
    {
      "cell_type": "markdown",
      "source": [
        "### 21. Write a Python program to check if two strings are anagrams of each other."
      ],
      "metadata": {
        "id": "gnO9nzoZ-Qwl"
      }
    },
    {
      "cell_type": "code",
      "source": [
        "def anagram(string1, string2):\n",
        "  string1 = string1.lower()\n",
        "  string2 = string2.lower()\n",
        "  if sorted(string1) == sorted(string2):\n",
        "    return True\n",
        "  return False\n",
        "\n",
        "anagram('listen', 'sohail')"
      ],
      "metadata": {
        "colab": {
          "base_uri": "https://localhost:8080/"
        },
        "id": "_Kop_fsI-xS-",
        "outputId": "8db527e1-ba8f-471c-e3f0-760c88de2560"
      },
      "execution_count": 32,
      "outputs": [
        {
          "output_type": "execute_result",
          "data": {
            "text/plain": [
              "False"
            ]
          },
          "metadata": {},
          "execution_count": 32
        }
      ]
    },
    {
      "cell_type": "markdown",
      "source": [
        "### 22. Implement a function to find the first non-repeating character in a string.\n"
      ],
      "metadata": {
        "id": "0OP7QC7D-8yu"
      }
    },
    {
      "cell_type": "code",
      "source": [
        "my_string = 'india'"
      ],
      "metadata": {
        "id": "Y9_W6WhF_eZ_"
      },
      "execution_count": 33,
      "outputs": []
    },
    {
      "cell_type": "code",
      "source": [
        "def non_repeating_ch(my_string):\n",
        "  non_repeated = \"\"\n",
        "  for i in my_string:\n",
        "    if my_string.count(i) == 1:\n",
        "      non_repeated += i\n",
        "      break\n",
        "  return non_repeated"
      ],
      "metadata": {
        "id": "p3f_VDI6_St_"
      },
      "execution_count": 34,
      "outputs": []
    },
    {
      "cell_type": "code",
      "source": [
        "non_repeating_ch(my_string)"
      ],
      "metadata": {
        "colab": {
          "base_uri": "https://localhost:8080/",
          "height": 35
        },
        "id": "lPeakpB8_7K1",
        "outputId": "80b8703f-026a-4bbc-e415-6be055ddb6ca"
      },
      "execution_count": 35,
      "outputs": [
        {
          "output_type": "execute_result",
          "data": {
            "text/plain": [
              "'n'"
            ],
            "application/vnd.google.colaboratory.intrinsic+json": {
              "type": "string"
            }
          },
          "metadata": {},
          "execution_count": 35
        }
      ]
    },
    {
      "cell_type": "markdown",
      "source": [
        "### 23. Write a program to find the prime factors of a given number"
      ],
      "metadata": {
        "id": "8XO0Dg28A0Tb"
      }
    },
    {
      "cell_type": "code",
      "source": [
        "def prime_factors(n):\n",
        "  i = 2\n",
        "  prime_factors = []\n",
        "  while i*i <= n:\n",
        "    if n%i == 0:\n",
        "      prime_factors.append(i)\n",
        "      n //= i\n",
        "    else:\n",
        "      i += 1\n",
        "  if n>1:\n",
        "    prime_factors.append(n)\n",
        "  return prime_factors"
      ],
      "metadata": {
        "id": "qVo6OBpA__Zd"
      },
      "execution_count": 36,
      "outputs": []
    },
    {
      "cell_type": "code",
      "source": [
        "prime_factors(6)"
      ],
      "metadata": {
        "colab": {
          "base_uri": "https://localhost:8080/"
        },
        "id": "0G4nD_YkCAkG",
        "outputId": "fc46f490-0c59-46eb-cedd-250e7d9c5f4f"
      },
      "execution_count": 37,
      "outputs": [
        {
          "output_type": "execute_result",
          "data": {
            "text/plain": [
              "[2, 3]"
            ]
          },
          "metadata": {},
          "execution_count": 37
        }
      ]
    },
    {
      "cell_type": "markdown",
      "source": [
        "### 24. Implement a function to check if a given number is a power of two.\n"
      ],
      "metadata": {
        "id": "LsezUadOC6vc"
      }
    },
    {
      "cell_type": "code",
      "source": [
        "import math\n",
        "def isPowerOfTwo(n):\n",
        "    if (n == 0):\n",
        "        return False\n",
        "    while (n != 1):\n",
        "        if (n % 2 != 0):\n",
        "            return False\n",
        "        n = n // 2\n",
        "\n",
        "    return True\n"
      ],
      "metadata": {
        "id": "mFYwbYRnDKGa"
      },
      "execution_count": 38,
      "outputs": []
    },
    {
      "cell_type": "code",
      "source": [
        "isPowerOfTwo(32)"
      ],
      "metadata": {
        "colab": {
          "base_uri": "https://localhost:8080/"
        },
        "id": "sgG_t3CqD1lA",
        "outputId": "4ef72759-2adb-476c-d4b7-a0c299d3cf51"
      },
      "execution_count": 39,
      "outputs": [
        {
          "output_type": "execute_result",
          "data": {
            "text/plain": [
              "True"
            ]
          },
          "metadata": {},
          "execution_count": 39
        }
      ]
    },
    {
      "cell_type": "markdown",
      "source": [
        "### 25. Write a Python program to merge two sorted lists into a single sorted list.\n"
      ],
      "metadata": {
        "id": "dQ0ZV0PFFfdl"
      }
    },
    {
      "cell_type": "code",
      "source": [
        "def merge_sorted(list1, list2):\n",
        "  if len(list1) == 0:\n",
        "    return list2\n",
        "  elif len(list2) == 0:\n",
        "    return list1\n",
        "  elif len(list1) == 0 and len(list2)==0:\n",
        "    return []\n",
        "  result = list1 + list2\n",
        "  return sorted(result)"
      ],
      "metadata": {
        "id": "bVEkyZ0DGb50"
      },
      "execution_count": 40,
      "outputs": []
    },
    {
      "cell_type": "code",
      "source": [
        "list1=[]\n",
        "list2 = [2, 5, 6]\n",
        "print(merge_sorted(list1, list2))"
      ],
      "metadata": {
        "colab": {
          "base_uri": "https://localhost:8080/"
        },
        "id": "ZyND14uoNkiN",
        "outputId": "c0422319-a864-44a6-a5cc-2da7619e7a9c"
      },
      "execution_count": 41,
      "outputs": [
        {
          "output_type": "stream",
          "name": "stdout",
          "text": [
            "[2, 5, 6]\n"
          ]
        }
      ]
    },
    {
      "cell_type": "markdown",
      "source": [
        "### 26. Implement a function to find the mode of a list of numbers.\n"
      ],
      "metadata": {
        "id": "4YseN0eSN5P1"
      }
    },
    {
      "cell_type": "code",
      "source": [
        "from scipy.stats import mode\n",
        "def mode_of_numbers(my_list):\n",
        "  result = mode(my_list)\n",
        "  return result\n"
      ],
      "metadata": {
        "id": "QaTXecyGNpbY"
      },
      "execution_count": 42,
      "outputs": []
    },
    {
      "cell_type": "code",
      "source": [
        "my_list = [3, 5, 6, 7, 3, 3, 9, 8, 3, 9, 9, 9, 9]\n",
        "mode_of_numbers(my_list)"
      ],
      "metadata": {
        "colab": {
          "base_uri": "https://localhost:8080/"
        },
        "id": "bbP2e6BaPPEn",
        "outputId": "6b66a748-2515-44db-c1ec-45166860d8cd"
      },
      "execution_count": 43,
      "outputs": [
        {
          "output_type": "stream",
          "name": "stderr",
          "text": [
            "<ipython-input-42-c6cfdd1d5ad0>:3: FutureWarning: Unlike other reduction functions (e.g. `skew`, `kurtosis`), the default behavior of `mode` typically preserves the axis it acts along. In SciPy 1.11.0, this behavior will change: the default value of `keepdims` will become False, the `axis` over which the statistic is taken will be eliminated, and the value None will no longer be accepted. Set `keepdims` to True or False to avoid this warning.\n",
            "  result = mode(my_list)\n"
          ]
        },
        {
          "output_type": "execute_result",
          "data": {
            "text/plain": [
              "ModeResult(mode=array([9]), count=array([5]))"
            ]
          },
          "metadata": {},
          "execution_count": 43
        }
      ]
    },
    {
      "cell_type": "markdown",
      "source": [
        "### 27. Write a program to find the greatest common divisor (GCD) of two numbers.\n"
      ],
      "metadata": {
        "id": "1RgM7s-JPeok"
      }
    },
    {
      "cell_type": "code",
      "source": [
        "import math\n",
        "def gcd_number(a, b):\n",
        "  result = math.gcd(a, b)\n",
        "  return result"
      ],
      "metadata": {
        "id": "c_hPEyMaPZTU"
      },
      "execution_count": 44,
      "outputs": []
    },
    {
      "cell_type": "code",
      "source": [
        "print(gcd_number(3, 6))"
      ],
      "metadata": {
        "colab": {
          "base_uri": "https://localhost:8080/"
        },
        "id": "Gl-bXMAVPuC_",
        "outputId": "84b3bcd2-10b5-4151-c59f-91bd4a2f3628"
      },
      "execution_count": 45,
      "outputs": [
        {
          "output_type": "stream",
          "name": "stdout",
          "text": [
            "3\n"
          ]
        }
      ]
    },
    {
      "cell_type": "markdown",
      "source": [
        "### 28. Implement a function to calculate the square root of a given number.\n"
      ],
      "metadata": {
        "id": "uAotWgbEP3ZY"
      }
    },
    {
      "cell_type": "code",
      "source": [
        "import math\n",
        "def square_root(num):\n",
        "  return math.sqrt(num)\n",
        "\n",
        "square_root(25)"
      ],
      "metadata": {
        "colab": {
          "base_uri": "https://localhost:8080/"
        },
        "id": "uMUOriQWPwAm",
        "outputId": "9b29a69a-a4be-40a0-f736-3305f7c1bc6f"
      },
      "execution_count": 46,
      "outputs": [
        {
          "output_type": "execute_result",
          "data": {
            "text/plain": [
              "5.0"
            ]
          },
          "metadata": {},
          "execution_count": 46
        }
      ]
    },
    {
      "cell_type": "markdown",
      "source": [
        "### 29. Write a Python program to check if a given string is a valid palindrome ignoring non-alphanumeric characters."
      ],
      "metadata": {
        "id": "r4aYqoRZQD5q"
      }
    },
    {
      "cell_type": "code",
      "source": [
        "def palindrome(my_string):\n",
        "  reverse_string = my_string[::-1]\n",
        "  if my_string == reverse_string:\n",
        "    return True\n",
        "  else:\n",
        "    return False"
      ],
      "metadata": {
        "id": "-OnNQAmQP-w3"
      },
      "execution_count": 47,
      "outputs": []
    },
    {
      "cell_type": "code",
      "source": [
        "palindrome(\"malayalam\")"
      ],
      "metadata": {
        "colab": {
          "base_uri": "https://localhost:8080/"
        },
        "id": "bzJ9KoGSSMK8",
        "outputId": "7455842f-e042-4796-af50-06ded5c244ce"
      },
      "execution_count": 48,
      "outputs": [
        {
          "output_type": "execute_result",
          "data": {
            "text/plain": [
              "True"
            ]
          },
          "metadata": {},
          "execution_count": 48
        }
      ]
    },
    {
      "cell_type": "markdown",
      "source": [
        "### 30. Implement a function to find the minimum element in a rotated sorted list.\n"
      ],
      "metadata": {
        "id": "Ud7FBYQqSRf6"
      }
    },
    {
      "cell_type": "code",
      "source": [
        "def minimum_element(my_list):\n",
        "  min_elem = my_list[0]\n",
        "  for i in range(len(my_list)):\n",
        "    if my_list[i] < min_elem:\n",
        "      min_elem = my_list[i]\n",
        "  return min_elem\n",
        "\n",
        "my_list = [4, 5, 1, 2, 3]\n",
        "print(minimum_element(my_list))"
      ],
      "metadata": {
        "colab": {
          "base_uri": "https://localhost:8080/"
        },
        "id": "rbF0utj3SOIM",
        "outputId": "8142afbc-ac33-455f-883e-f6bdf681f2b1"
      },
      "execution_count": 49,
      "outputs": [
        {
          "output_type": "stream",
          "name": "stdout",
          "text": [
            "1\n"
          ]
        }
      ]
    },
    {
      "cell_type": "markdown",
      "source": [
        "### 31. Write a program to find the sum of all even numbers in a list.\n"
      ],
      "metadata": {
        "id": "AvTPQUIFTf98"
      }
    },
    {
      "cell_type": "code",
      "source": [
        "def sum_even_numbers(my_list):\n",
        "  even_numbers = []\n",
        "  for i in range(len(my_list)):\n",
        "    if my_list[i] % 2 == 0:\n",
        "      even_numbers.append(my_list[i])\n",
        "  return sum(even_numbers)"
      ],
      "metadata": {
        "id": "JNApZGbJTZfd"
      },
      "execution_count": 50,
      "outputs": []
    },
    {
      "cell_type": "code",
      "source": [
        "my_list = [1, 2, 3, 4, 5, 6, 7, 8, 9, 10]\n",
        "print(sum_even_numbers(my_list))"
      ],
      "metadata": {
        "colab": {
          "base_uri": "https://localhost:8080/"
        },
        "id": "GcuZza4mTyRX",
        "outputId": "7a0ab211-b142-4b29-911b-516feb2e6a18"
      },
      "execution_count": 51,
      "outputs": [
        {
          "output_type": "stream",
          "name": "stdout",
          "text": [
            "30\n"
          ]
        }
      ]
    },
    {
      "cell_type": "markdown",
      "source": [
        "### 32. Implement a function to calculate the power of a number using recursion.\n"
      ],
      "metadata": {
        "id": "nXblpS7eUAh9"
      }
    },
    {
      "cell_type": "code",
      "source": [
        "def power_of_num(number, power):\n",
        "  if power == 1:\n",
        "    return number\n",
        "  if power == 0:\n",
        "    return 1\n",
        "  return (number * power_of_num(number, power-1))\n"
      ],
      "metadata": {
        "id": "86eNpvzrT84i"
      },
      "execution_count": 52,
      "outputs": []
    },
    {
      "cell_type": "code",
      "source": [
        "power_of_num(2, 5)"
      ],
      "metadata": {
        "colab": {
          "base_uri": "https://localhost:8080/"
        },
        "id": "VLbzsXH3UVWU",
        "outputId": "15abbd36-fce7-436f-bdc5-7f28a607d446"
      },
      "execution_count": 53,
      "outputs": [
        {
          "output_type": "execute_result",
          "data": {
            "text/plain": [
              "32"
            ]
          },
          "metadata": {},
          "execution_count": 53
        }
      ]
    },
    {
      "cell_type": "markdown",
      "source": [
        "### 33. Write a Python program to remove duplicates from a list while preserving the order"
      ],
      "metadata": {
        "id": "lCd0KEWqU-Zx"
      }
    },
    {
      "cell_type": "code",
      "source": [
        "def remove_duplicates_preserving_order(my_list):\n",
        "  my_set = set()\n",
        "  result = []\n",
        "  for item in my_list:\n",
        "    if item not in my_set:\n",
        "      my_set.add(item)\n",
        "      result.append(item)\n",
        "  return result"
      ],
      "metadata": {
        "id": "8rt2jEzOUXA7"
      },
      "execution_count": 54,
      "outputs": []
    },
    {
      "cell_type": "code",
      "source": [
        "my_list = [1, 3, 0, 2, 4, 4, 5, 6, 5]\n",
        "print(set(my_list))"
      ],
      "metadata": {
        "colab": {
          "base_uri": "https://localhost:8080/"
        },
        "id": "5co0C9NlVpQT",
        "outputId": "82b22b6b-6ec7-4f4e-b687-850da868f476"
      },
      "execution_count": 55,
      "outputs": [
        {
          "output_type": "stream",
          "name": "stdout",
          "text": [
            "{0, 1, 2, 3, 4, 5, 6}\n"
          ]
        }
      ]
    },
    {
      "cell_type": "code",
      "source": [
        "remove_duplicates_preserving_order(my_list)"
      ],
      "metadata": {
        "colab": {
          "base_uri": "https://localhost:8080/"
        },
        "id": "l3BS2wdtVvpA",
        "outputId": "b62b84d3-4147-427c-c30a-c20f598969af"
      },
      "execution_count": 56,
      "outputs": [
        {
          "output_type": "execute_result",
          "data": {
            "text/plain": [
              "[1, 3, 0, 2, 4, 5, 6]"
            ]
          },
          "metadata": {},
          "execution_count": 56
        }
      ]
    },
    {
      "cell_type": "markdown",
      "source": [
        "### 34. Implement a function to find the longest common prefix among a list of strings."
      ],
      "metadata": {
        "id": "bDAbV2n9WNUr"
      }
    },
    {
      "cell_type": "code",
      "source": [
        "def longest_common_prefix(my_list):\n",
        "  if len(my_list) == 0:\n",
        "    return \"\"\n",
        "\n",
        "  # Sort the list\n",
        "  my_list.sort()\n",
        "  first_str = my_list[0]\n",
        "  last_str = my_list[-1]\n",
        "  prefix = \"\"\n",
        "  for i in range(len(first_str)):\n",
        "    if first_str[i] == last_str[i]:\n",
        "      prefix += first_str[i]\n",
        "    else:\n",
        "      break\n",
        "  return prefix\n",
        "\n",
        "\n"
      ],
      "metadata": {
        "id": "_t6jrpFrV6Uh"
      },
      "execution_count": 57,
      "outputs": []
    },
    {
      "cell_type": "code",
      "source": [
        "my_list = [\"flight\", \"flow\", \"fright\"]\n",
        "longest_common_prefix(my_list)"
      ],
      "metadata": {
        "colab": {
          "base_uri": "https://localhost:8080/",
          "height": 35
        },
        "id": "8QlGcmoIXSQx",
        "outputId": "870a68d0-2e59-45e0-aad9-c01171a44764"
      },
      "execution_count": 58,
      "outputs": [
        {
          "output_type": "execute_result",
          "data": {
            "text/plain": [
              "'f'"
            ],
            "application/vnd.google.colaboratory.intrinsic+json": {
              "type": "string"
            }
          },
          "metadata": {},
          "execution_count": 58
        }
      ]
    },
    {
      "cell_type": "markdown",
      "source": [
        "### 35. Write a program to check if a given number is a perfect square."
      ],
      "metadata": {
        "id": "ur43rpx-Y3vu"
      }
    },
    {
      "cell_type": "code",
      "source": [
        "# Perfect square\n",
        "# n = m**2 (16 = 4**2)\n",
        "# n = m*m\n",
        "def is_perfect_square(n):\n",
        "  m = 1\n",
        "  while m * m <= n:\n",
        "    if m * m == n:\n",
        "      return True\n",
        "    m += 1\n",
        "  return False\n"
      ],
      "metadata": {
        "id": "QllgcddRYOqH"
      },
      "execution_count": 59,
      "outputs": []
    },
    {
      "cell_type": "code",
      "source": [
        "is_perfect_square(25)"
      ],
      "metadata": {
        "colab": {
          "base_uri": "https://localhost:8080/"
        },
        "id": "n4lvNztBZTMB",
        "outputId": "d27b6c49-1b5e-4f84-f1fe-e80b5a044af9"
      },
      "execution_count": 60,
      "outputs": [
        {
          "output_type": "execute_result",
          "data": {
            "text/plain": [
              "True"
            ]
          },
          "metadata": {},
          "execution_count": 60
        }
      ]
    },
    {
      "cell_type": "markdown",
      "source": [
        "### 36. Implement a function to calculate the product of all elements in a list.\n"
      ],
      "metadata": {
        "id": "1BQrrfz5belf"
      }
    },
    {
      "cell_type": "code",
      "source": [
        "def product_of_elements(my_list):\n",
        "  result = 1\n",
        "  for elem in range(len(my_list)):\n",
        "    result *= my_list[elem]\n",
        "  return result"
      ],
      "metadata": {
        "id": "zSHTWekyasEh"
      },
      "execution_count": 61,
      "outputs": []
    },
    {
      "cell_type": "code",
      "source": [
        "my_list = [4, 5, 6, 2, 5]\n",
        "product_of_elements(my_list)"
      ],
      "metadata": {
        "colab": {
          "base_uri": "https://localhost:8080/"
        },
        "id": "Go6hzfgPbpqF",
        "outputId": "84ee944b-c7d7-49a7-c3af-8f2618862249"
      },
      "execution_count": 62,
      "outputs": [
        {
          "output_type": "execute_result",
          "data": {
            "text/plain": [
              "1200"
            ]
          },
          "metadata": {},
          "execution_count": 62
        }
      ]
    },
    {
      "cell_type": "markdown",
      "source": [
        "### 37. Write a Python program to reverse the order of words in a sentence while preserving the word order."
      ],
      "metadata": {
        "id": "_zuokDODcCbw"
      }
    },
    {
      "cell_type": "code",
      "source": [
        "def reverse_words(my_sent):\n",
        "  words = my_sent.split()\n",
        "  reverse_words = words[::-1]\n",
        "  return ' '.join(reverse_words)\n"
      ],
      "metadata": {
        "id": "KDCe_nmvcQJe"
      },
      "execution_count": 63,
      "outputs": []
    },
    {
      "cell_type": "code",
      "source": [
        "my_sent = \"Virat kohli is the best batsman of this generation.\"\n",
        "reverse_words(my_sent)"
      ],
      "metadata": {
        "colab": {
          "base_uri": "https://localhost:8080/",
          "height": 35
        },
        "id": "YJtn0plpd6_p",
        "outputId": "d6b712a1-58f3-4a2f-cfb5-0b7ff44b3d17"
      },
      "execution_count": 64,
      "outputs": [
        {
          "output_type": "execute_result",
          "data": {
            "text/plain": [
              "'generation. this of batsman best the is kohli Virat'"
            ],
            "application/vnd.google.colaboratory.intrinsic+json": {
              "type": "string"
            }
          },
          "metadata": {},
          "execution_count": 64
        }
      ]
    },
    {
      "cell_type": "markdown",
      "source": [
        "### 38. Implement a function to find the missing number in a given list of consecutive numbers.\n"
      ],
      "metadata": {
        "id": "WyWsBGgdeUgH"
      }
    },
    {
      "cell_type": "code",
      "source": [
        "def find_missing_num(my_list):\n",
        "  low = 0\n",
        "  high = len(my_list)-1\n",
        "  while low <= high:\n",
        "    mid = (low+high)//2\n",
        "    # Verify if the middle is consistent\n",
        "    if(my_list[mid] - mid == my_list[0]):\n",
        "      # Here, no inconsistency till middle elements\n",
        "      # When missing element is just after the middle element\n",
        "      if(my_list[mid+1] - my_list[mid] > 1):\n",
        "        return my_list[mid] + 1\n",
        "      else:\n",
        "        low = mid + 1\n",
        "    else:\n",
        "      if(my_list[mid]-my_list[mid-1]>1):\n",
        "        return my_list[mid]-1\n",
        "      else:\n",
        "        high = mid -1\n",
        "  return -1\n",
        "\n"
      ],
      "metadata": {
        "id": "6FZLnkcmfyXs"
      },
      "execution_count": 65,
      "outputs": []
    },
    {
      "cell_type": "markdown",
      "source": [
        "### 39. Write a program to find the sum of digits of a given number.\n"
      ],
      "metadata": {
        "id": "hbY1B0L2lRon"
      }
    },
    {
      "cell_type": "code",
      "source": [
        "def sum_of_digits(n):\n",
        "  sum_ = 0\n",
        "  while(n!=0):\n",
        "    sum_ = sum_ + int(n%10)\n",
        "    n = int(n/10)\n",
        "  return sum_\n"
      ],
      "metadata": {
        "id": "STZCM9JHlMe3"
      },
      "execution_count": 66,
      "outputs": []
    },
    {
      "cell_type": "code",
      "source": [
        "print(sum_of_digits(12))"
      ],
      "metadata": {
        "colab": {
          "base_uri": "https://localhost:8080/"
        },
        "id": "yuU5vjw3-7_m",
        "outputId": "8f8cf24e-99d7-426e-90e4-69faacb5acdf"
      },
      "execution_count": 67,
      "outputs": [
        {
          "output_type": "stream",
          "name": "stdout",
          "text": [
            "3\n"
          ]
        }
      ]
    },
    {
      "cell_type": "markdown",
      "source": [
        "### 40. Implement a function to check if a given string is a valid palindrome considering case sensitivity.\n"
      ],
      "metadata": {
        "id": "4mYzmxz4Alu2"
      }
    },
    {
      "cell_type": "code",
      "source": [
        "def is_palindrome(my_string):\n",
        "  my_string = my_string.lower()\n",
        "  reverse = my_string[::-1]\n",
        "  if reverse == my_string:\n",
        "    return True\n",
        "  return False"
      ],
      "metadata": {
        "id": "TYSBYBuv-_Q3"
      },
      "execution_count": 68,
      "outputs": []
    },
    {
      "cell_type": "markdown",
      "source": [
        "### 41. Write a Python program to find the smallest missing positive integer in a list.\n"
      ],
      "metadata": {
        "id": "T_81sm0TBY8G"
      }
    },
    {
      "cell_type": "code",
      "source": [
        "def find_smallest_missing_positive(nums):\n",
        "    n = len(nums)\n",
        "\n",
        "    # Step 1: Move all non-positive integers to the left side\n",
        "    i = 0\n",
        "    while i < n:\n",
        "        if 1 <= nums[i] <= n and nums[nums[i] - 1] != nums[i]:\n",
        "            nums[nums[i] - 1], nums[i] = nums[i], nums[nums[i] - 1]\n",
        "        else:\n",
        "            i += 1\n",
        "\n",
        "    # Step 2: Find the smallest missing positive integer\n",
        "    for i in range(n):\n",
        "        if nums[i] != i + 1:\n",
        "            return i + 1\n",
        "\n",
        "    # If all positive integers from 1 to n are present, return n + 1\n",
        "    return n + 1\n",
        "\n",
        "# Example usage\n",
        "nums = [3, 4, -1, 1]\n",
        "smallest_missing = find_smallest_missing_positive(nums)\n",
        "print(smallest_missing)\n"
      ],
      "metadata": {
        "colab": {
          "base_uri": "https://localhost:8080/"
        },
        "id": "irBTbN4vBEDQ",
        "outputId": "02a5293c-b634-4126-dea9-3f0fe74eb83f"
      },
      "execution_count": 69,
      "outputs": [
        {
          "output_type": "stream",
          "name": "stdout",
          "text": [
            "2\n"
          ]
        }
      ]
    },
    {
      "cell_type": "markdown",
      "source": [
        "### 42. Implement a function to find the longest palindrome substring in a given string.\n"
      ],
      "metadata": {
        "id": "N1O7dp3FUHeK"
      }
    },
    {
      "cell_type": "code",
      "source": [
        "# def longest_palindrome(my_string):\n",
        "#   sub_strings = my_string.split()\n",
        "#   longest_ss = []\n",
        "#   for i in range(len(sub_strings)-1):\n",
        "#     if len(sub_strings[i]) > len(sub_strings[i+1]):\n",
        "#       longest_ss.append(sub_strings[i])\n",
        "#   return longest_ss,\n",
        "# my_string = \"India is the language malayalam spoken in kerala\"\n",
        "# print(longest_palindrome(my_string))"
      ],
      "metadata": {
        "colab": {
          "base_uri": "https://localhost:8080/"
        },
        "id": "Bn9C9VjvUIcs",
        "outputId": "4e55cf4a-773a-4043-e82b-3a4d76f5b1f2"
      },
      "execution_count": 90,
      "outputs": [
        {
          "output_type": "stream",
          "name": "stdout",
          "text": [
            "(['India', 'malayalam', 'spoken'],)\n"
          ]
        }
      ]
    },
    {
      "cell_type": "code",
      "source": [
        "def longest_palindrome(s):\n",
        "    n = len(s)\n",
        "    if n < 2:\n",
        "        return s\n",
        "\n",
        "    start = 0\n",
        "    max_len = 1\n",
        "\n",
        "    def expand_around_center(left, right):\n",
        "        nonlocal start, max_len\n",
        "        while left >= 0 and right < n and s[left] == s[right]:\n",
        "            left -= 1\n",
        "            right += 1\n",
        "        current_len = right - left - 1\n",
        "        if current_len > max_len:\n",
        "            start = left + 1\n",
        "            max_len = current_len\n",
        "\n",
        "    for i in range(n-1):\n",
        "        expand_around_center(i, i)\n",
        "        expand_around_center(i, i+1)\n",
        "\n",
        "    return s[start:start+max_len]\n",
        "\n",
        "# Example usage\n",
        "string = \"malayalam\"\n",
        "result = longest_palindrome(string)\n",
        "print(result)\n"
      ],
      "metadata": {
        "colab": {
          "base_uri": "https://localhost:8080/"
        },
        "id": "DdC4mn2GUkqI",
        "outputId": "92879114-023e-4684-b9e7-50fdc9ab2c9b"
      },
      "execution_count": 92,
      "outputs": [
        {
          "output_type": "stream",
          "name": "stdout",
          "text": [
            "malayalam\n"
          ]
        }
      ]
    },
    {
      "cell_type": "markdown",
      "source": [
        "### 43. Write a program to find the number of occurrences of a given element in a list.\n"
      ],
      "metadata": {
        "id": "3QBAgDFzZQCZ"
      }
    },
    {
      "cell_type": "code",
      "source": [
        "def no_occurences(my_list, elem):\n",
        "  count = 0\n",
        "  for i in range(len(my_list)):\n",
        "    if elem not in my_list:\n",
        "      return 'Not in the list'\n",
        "    if my_list[i] == elem:\n",
        "      count += 1\n",
        "  return count\n",
        "\n",
        "no_occurences(my_list=[5, 2, 2, 5, 1,0, 5], elem=5)"
      ],
      "metadata": {
        "colab": {
          "base_uri": "https://localhost:8080/"
        },
        "id": "r6AohzsJZAFj",
        "outputId": "77b55817-de0d-4cbf-a7e8-ed90b533d12a"
      },
      "execution_count": 98,
      "outputs": [
        {
          "output_type": "execute_result",
          "data": {
            "text/plain": [
              "3"
            ]
          },
          "metadata": {},
          "execution_count": 98
        }
      ]
    },
    {
      "cell_type": "markdown",
      "source": [
        "### 44. Implement a function to check if a given number is a perfect number.\n"
      ],
      "metadata": {
        "id": "sE0cZXvAZ5YB"
      }
    },
    {
      "cell_type": "code",
      "source": [
        "def is_perfect_num(num):\n",
        "  sum_ = 0\n",
        "  for i in range(1, num):\n",
        "    if (num%i == 0):\n",
        "      sum_ = sum_+i\n",
        "  if sum_ == num:\n",
        "    return 'It is a perfect number'\n",
        "  else:\n",
        "    return 'It is not a perfect number'\n"
      ],
      "metadata": {
        "id": "dq8f_jd9ZlkL"
      },
      "execution_count": 99,
      "outputs": []
    },
    {
      "cell_type": "code",
      "source": [
        "is_perfect_num(6)"
      ],
      "metadata": {
        "colab": {
          "base_uri": "https://localhost:8080/",
          "height": 35
        },
        "id": "CEXQ2BPUa0v6",
        "outputId": "2feaa90e-6b91-47b2-c6cf-1491056ff33a"
      },
      "execution_count": 100,
      "outputs": [
        {
          "output_type": "execute_result",
          "data": {
            "text/plain": [
              "'It is a perfect number'"
            ],
            "application/vnd.google.colaboratory.intrinsic+json": {
              "type": "string"
            }
          },
          "metadata": {},
          "execution_count": 100
        }
      ]
    },
    {
      "cell_type": "code",
      "source": [
        "is_perfect_num(8128)"
      ],
      "metadata": {
        "colab": {
          "base_uri": "https://localhost:8080/",
          "height": 35
        },
        "id": "C7bYQnZrbQvJ",
        "outputId": "bafb1720-4702-4774-9333-1432fd17b346"
      },
      "execution_count": 115,
      "outputs": [
        {
          "output_type": "execute_result",
          "data": {
            "text/plain": [
              "'It is a perfect number'"
            ],
            "application/vnd.google.colaboratory.intrinsic+json": {
              "type": "string"
            }
          },
          "metadata": {},
          "execution_count": 115
        }
      ]
    },
    {
      "cell_type": "markdown",
      "source": [
        "### 45. Write a Python program to remove all duplicates from a string.\n"
      ],
      "metadata": {
        "id": "tMIYnniOcato"
      }
    },
    {
      "cell_type": "code",
      "source": [
        "def remove_strings(my_string):\n",
        "  return ''.join(set(my_string))\n",
        "\n",
        "#remove_strings = \"ineuron\"\n",
        "remove_strings(\"ineuron\")"
      ],
      "metadata": {
        "colab": {
          "base_uri": "https://localhost:8080/",
          "height": 35
        },
        "id": "uObXAc4XcI1K",
        "outputId": "25f380a3-1530-4d83-a7cd-42fcc494f40d"
      },
      "execution_count": 118,
      "outputs": [
        {
          "output_type": "execute_result",
          "data": {
            "text/plain": [
              "'iuoern'"
            ],
            "application/vnd.google.colaboratory.intrinsic+json": {
              "type": "string"
            }
          },
          "metadata": {},
          "execution_count": 118
        }
      ]
    },
    {
      "cell_type": "markdown",
      "source": [
        "### 46. Implement a function to find the first missing positive\n",
        "\n"
      ],
      "metadata": {
        "id": "Yoyyrw05c3jb"
      }
    },
    {
      "cell_type": "code",
      "source": [
        "def first_missing_positive(nums):\n",
        "    n = len(nums)\n",
        "\n",
        "    # Step 1: Move all non-positive integers to the left side\n",
        "    i = 0\n",
        "    while i < n:\n",
        "        if 1 <= nums[i] <= n and nums[nums[i] - 1] != nums[i]:\n",
        "            nums[nums[i] - 1], nums[i] = nums[i], nums[nums[i] - 1]\n",
        "        else:\n",
        "            i += 1\n",
        "\n",
        "    # Step 2: Find the first missing positive integer\n",
        "    for i in range(n):\n",
        "        if nums[i] != i + 1:\n",
        "            return i + 1\n",
        "\n",
        "    # If all positive integers from 1 to n are present, return n + 1\n",
        "    return n + 1\n",
        "\n",
        "# Example usage\n",
        "nums = [3, 4, -1, 1]\n",
        "result = first_missing_positive(nums)\n",
        "print(result)\n"
      ],
      "metadata": {
        "colab": {
          "base_uri": "https://localhost:8080/"
        },
        "id": "AKeuz7xzcohA",
        "outputId": "cb3c05ad-c5cc-48c3-ba45-a8c9a77a24e0"
      },
      "execution_count": 119,
      "outputs": [
        {
          "output_type": "stream",
          "name": "stdout",
          "text": [
            "2\n"
          ]
        }
      ]
    },
    {
      "cell_type": "code",
      "source": [],
      "metadata": {
        "id": "L-DQ_itrdJmf"
      },
      "execution_count": null,
      "outputs": []
    }
  ]
}