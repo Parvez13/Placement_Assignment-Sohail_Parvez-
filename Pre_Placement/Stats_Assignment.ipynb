{
  "nbformat": 4,
  "nbformat_minor": 0,
  "metadata": {
    "colab": {
      "provenance": []
    },
    "kernelspec": {
      "name": "python3",
      "display_name": "Python 3"
    },
    "language_info": {
      "name": "python"
    }
  },
  "cells": [
    {
      "cell_type": "markdown",
      "source": [
        "```\n",
        "\n",
        "1. Scenario: A company wants to analyze the sales performance of its products in different regions. They have collected the following data:\n",
        "   Region A: [10, 15, 12, 8, 14]\n",
        "   Region B: [18, 20, 16, 22, 25]\n",
        "   Calculate the mean sales for each region.\n",
        "\n",
        "```"
      ],
      "metadata": {
        "id": "ZiQ7SP2JVft5"
      }
    },
    {
      "cell_type": "markdown",
      "source": [
        "\n",
        "\n",
        "```\n",
        "Mean = Sum of observations / no.of observations\n",
        "Mean For Region A: (10+15+12+8+14)/5 => 11\n",
        "Mean For Region B: (18+20+16+22+25)/5 => 22\n",
        "```\n",
        "\n"
      ],
      "metadata": {
        "id": "wzprXvJecKY9"
      }
    },
    {
      "cell_type": "markdown",
      "source": [
        "```\n",
        "2. Scenario: A survey is conducted to measure customer satisfaction on a scale of 1 to 5. The data collected is as follows:\n",
        "[4, 5, 2, 3, 5, 4, 3, 2, 4, 5]\n",
        "Calculate the mode of the survey responses.\n",
        "\n",
        "```"
      ],
      "metadata": {
        "id": "9OVGmMaiWSkJ"
      }
    },
    {
      "cell_type": "markdown",
      "source": [
        "\n",
        "\n",
        "```\n",
        "Mode: It is most repeating value\n",
        "\n",
        "Here the mode is 4\n",
        "```\n",
        "\n"
      ],
      "metadata": {
        "id": "Zc2ysOBFZTM6"
      }
    },
    {
      "cell_type": "markdown",
      "source": [
        "\n",
        "\n",
        "```\n",
        "3. Scenario: A company wants to compare the salaries of two departments. The salary data for Department A and Department B are as follows:\n",
        "   Department A: [5000, 6000, 5500, 7000]\n",
        "   Department B: [4500, 5500, 5800, 6000, 5200]\n",
        "   Calculate the median salary for each department.\n",
        "\n",
        "```\n",
        "\n"
      ],
      "metadata": {
        "id": "kWl7kpfGZhO3"
      }
    },
    {
      "cell_type": "markdown",
      "source": [
        "\n",
        "\n",
        "```\n",
        "Department A: [5000, 6000, 5500, 7000]\n",
        "# Sort the List\n",
        "Department A : [5000, 5500, 6000, 7000]\n",
        "# Count number of elements\n",
        "Count = 4(even)\n",
        "# For even numbers, average of middle numbers\n",
        "median = (5500+6000)/2\n",
        "median = 5750\n",
        "------------------------------------------------------------\n",
        "# Department B: [4500, 5500, 5800, 6000, 5200]\n",
        "# Sort the List\n",
        "Department B: [4500, 5200, 5500, 5800, 6000]\n",
        "# Count number of elements\n",
        "count = 5(odd)\n",
        "# For odd numbers, consider middle value as median\n",
        "median = 5500\n",
        "\n",
        "```\n",
        "\n"
      ],
      "metadata": {
        "id": "NxI42yt6ZoJd"
      }
    },
    {
      "cell_type": "markdown",
      "source": [
        "\n",
        "\n",
        "```\n",
        "4. Scenario: A data analyst wants to determine the variability in the daily stock prices of a company. The data collected is as follows:\n",
        "   [25.5, 24.8, 26.1, 25.3, 24.9]\n",
        "   Calculate the range of the stock prices\n",
        "\n",
        "```\n",
        "\n"
      ],
      "metadata": {
        "id": "pbRVihrzbh5A"
      }
    },
    {
      "cell_type": "markdown",
      "source": [
        "\n",
        "\n",
        "```\n",
        "Range = Maxium -  minimum\n",
        "Range of the stock price = 26.1 - 24.8 => 1.3\n",
        "```\n",
        "\n"
      ],
      "metadata": {
        "id": "Xl-9dRlIbrSG"
      }
    },
    {
      "cell_type": "markdown",
      "source": [
        "\n",
        "\n",
        "```\n",
        "5. Scenario: A study is conducted to compare the performance of two different teaching methods. The test scores of the students in each group are as follows:\n",
        "   Group A: [85, 90, 92, 88, 91]\n",
        "   Group B: [82, 88, 90, 86, 87]\n",
        "   Perform a t-test to determine if there is a significant difference in the mean scores between the two groups.\n",
        "\n",
        "```\n",
        "\n"
      ],
      "metadata": {
        "id": "sE-KWODHb-C2"
      }
    },
    {
      "cell_type": "markdown",
      "source": [
        "\n",
        "\n",
        "```\n",
        "Here we are going to perform two-tailed test. Because of two independent groups\n",
        "\n",
        "Performing t-test on independent Samples\n",
        "Step 1: Define the null hypothesis(H0) and alternative hypothesis(Ha):\n",
        "* Null Hypothesis(H0): The mean scores of Group A and Group B are equal\n",
        "* Alternate hypothesis(Ha): The mean scores of Group A and Group B are not equal\n",
        "Step 2: Calculate the sample mean and sample stand deviations fo each group\n",
        "\n",
        "Group A mean(x1): (85+90+92+88+91)/5 = 89.2\n",
        "Group B mean(x2): (82+88+90+86+87)/5 = 86.6\n",
        "\n",
        "Std A(s1): 2.67\n",
        "Std B(s2): 2.59\n",
        "\n",
        "Step 3: Calculate t-test using formula\n",
        "t = (mean_A - mean_B) / sqrt((standard deviation_A^2 / n_A) + (standard deviation_B^2 / n_B))\n",
        "= (89.2 - 86.6) / sqrt((2.67^2 / 5) + (2.59^2 / 5))\n",
        "= 2.6 / sqrt(0.7132 + 0.6688)\n",
        "= 2.6 / sqrt(1.382)\n",
        "= 2.6 / 1.175\n",
        "≈ 2.21\n",
        "\n",
        "Step 4: Determine the degrees of freedom (df) based on the sample sizes of each group:\n",
        "\n",
        "    df = n_A + n_B - 2 = 5 + 5 - 2 = 8\n",
        "\n",
        "Step 5: Determine the critical value for the desired significance level (e.g., α = 0.05) and degrees of freedom (df). Look up the value in the t-distribution table or use statistical software. For a two-tailed test, divide the significance level by 2.\n",
        "\n",
        "    For α = 0.05 and df = 8, the critical value is approximately ±2.306.\n",
        "\n",
        "Step 6: Compare the absolute value of the calculated t-statistic with the critical value to make a decision:\n",
        "\n",
        "    If |t| > critical value, reject the null hypothesis. There is a significant difference in the mean scores between the two groups.\n",
        "    If |t| ≤ critical value, fail to reject the null hypothesis. There is no significant difference in the mean scores between the two groups.\n",
        "\n",
        "In this case, |2.21| ≤ 2.306, so we fail to reject the null hypothesis. There is no significant difference in the mean scores between Group A and Group B.\n",
        "\n",
        "```\n",
        "\n"
      ],
      "metadata": {
        "id": "MjQingGvgcZn"
      }
    },
    {
      "cell_type": "markdown",
      "source": [
        "\n",
        "\n",
        "```\n",
        "6. Scenario: A company wants to analyze the relationship between advertising expenditure and sales. The data collected is as follows:\n",
        "   Advertising Expenditure (in thousands): [10, 15, 12, 8, 14]\n",
        "   Sales (in thousands): [25, 30, 28, 20, 26]\n",
        "   Calculate the correlation coefficient between advertising expenditure and sales.\n",
        "\n",
        "```\n",
        "\n"
      ],
      "metadata": {
        "id": "o90YIvKiqtzp"
      }
    },
    {
      "cell_type": "code",
      "source": [
        "import numpy as np\n",
        "x = [10, 15, 12, 8, 14]\n",
        "y = [25, 30, 28, 20, 26]\n",
        "\n",
        "# mean\n",
        "mean_x = np.mean(x)\n",
        "mean_y = np.mean(y)\n",
        "\n",
        "# covariance\n",
        "covariance = np.sum((np.array(x) - mean_x) * (np.array(y) - mean_y)) / (len(x) - 1)\n",
        "\n",
        "# standar deviation\n",
        "std_x = np.std(x)\n",
        "std_y = np.std(y)\n",
        "\n",
        "# Pearson Correlation\n",
        "corr = covariance/(std_x * std_y)\n",
        "corr"
      ],
      "metadata": {
        "colab": {
          "base_uri": "https://localhost:8080/"
        },
        "id": "Nv4B5GMYqYc7",
        "outputId": "ca156565-36bd-421c-bf58-95f5187c7217"
      },
      "execution_count": null,
      "outputs": [
        {
          "output_type": "execute_result",
          "data": {
            "text/plain": [
              "1.0946889219687665"
            ]
          },
          "metadata": {},
          "execution_count": 3
        }
      ]
    },
    {
      "cell_type": "code",
      "source": [
        "corr2 = np.corrcoef(x,y)[0,1]\n",
        "corr2"
      ],
      "metadata": {
        "colab": {
          "base_uri": "https://localhost:8080/"
        },
        "id": "Vk9f1l6JvTCF",
        "outputId": "ae548e45-4528-47a3-b92d-d984566eef81"
      },
      "execution_count": null,
      "outputs": [
        {
          "output_type": "execute_result",
          "data": {
            "text/plain": [
              "0.8757511375750132"
            ]
          },
          "metadata": {},
          "execution_count": 5
        }
      ]
    },
    {
      "cell_type": "markdown",
      "source": [
        "\n",
        "\n",
        "```\n",
        "7. Scenario: A survey is conducted to measure the heights of a group of people. The data collected is as follows:\n",
        "   [160, 170, 165, 155, 175, 180, 170]\n",
        "   Calculate the standard deviation of the heights.\n",
        "\n",
        "```\n",
        "\n"
      ],
      "metadata": {
        "id": "torH1Dy8weNl"
      }
    },
    {
      "cell_type": "code",
      "source": [
        "x = [160, 170, 165, 155, 175, 180, 170]\n",
        "\n",
        "# mean\n",
        "x_bar = round(np.mean(x),2)\n",
        "\n",
        "# Sum of square difference\n",
        "sum_square_differences = sum([(x-x_bar)**2 for x in x])\n",
        "\n",
        "# variance\n",
        "variance = sum_square_differences/len(x)-1\n",
        "\n",
        "# standard deviation\n",
        "std = variance ** 0.5\n",
        "std"
      ],
      "metadata": {
        "colab": {
          "base_uri": "https://localhost:8080/"
        },
        "id": "oPpasNYmwVMm",
        "outputId": "62f8811b-57f4-460f-af23-d5e260a8268c"
      },
      "execution_count": null,
      "outputs": [
        {
          "output_type": "execute_result",
          "data": {
            "text/plain": [
              "7.890837362771728"
            ]
          },
          "metadata": {},
          "execution_count": 13
        }
      ]
    },
    {
      "cell_type": "markdown",
      "source": [
        "\n",
        "\n",
        "```\n",
        "8. Scenario: A company wants to analyze the relationship between employee tenure and job satisfaction. The data collected is as follows:\n",
        "   Employee Tenure (in years): [2, 3, 5, 4, 6, 2, 4]\n",
        "   Job Satisfaction (on a scale of 1 to 10): [7, 8, 6, 9, 5, 7, 6]\n",
        "   Perform a linear regression analysis to predict job satisfaction based on employee tenure\n",
        "\n",
        "```\n",
        "\n"
      ],
      "metadata": {
        "id": "e30kI0P5z1HS"
      }
    },
    {
      "cell_type": "code",
      "source": [
        "employee_tenure = [2, 3, 5, 4, 6, 2, 4]\n",
        "job_satisfaction = [7, 8, 6, 9, 5, 7, 6]\n",
        "\n",
        "# Calculate the means\n",
        "mean_tenure = sum(employee_tenure)/len(employee_tenure)\n",
        "mean_satisfaction = sum(job_satisfaction)/len(job_satisfaction)\n",
        "\n",
        "# Calculate the deviations\n",
        "deviations_tenure = [x - mean_tenure for x in employee_tenure]\n",
        "deviations_satisfaction = [x-mean_satisfaction for x in job_satisfaction]\n",
        "\n",
        "# Calculate the covariance\n",
        "covariance = sum([deviations_tenure[i] * deviations_satisfaction[i] for i in range(len(employee_tenure))])\n",
        "\n",
        "# Calculate the variance\n",
        "variance_tenure = sum([x**2 for x in deviations_tenure])\n",
        "\n",
        "# Regression analysis\n",
        "slop = covariance/variance_tenure\n",
        "intercept = mean_satisfaction - slop * mean_tenure\n",
        "\n",
        "# Predict\n",
        "tenure = 3\n",
        "predicted_satisfaction = intercept + slop * tenure\n",
        "\n",
        "print(f\"The predicted job satisfaction for {tenure} years of tenure is: {predicted_satisfaction}\")"
      ],
      "metadata": {
        "id": "9A1DFZkiyGYr",
        "colab": {
          "base_uri": "https://localhost:8080/"
        },
        "outputId": "f67f6823-ae9a-434d-db88-a16d54eeda2a"
      },
      "execution_count": null,
      "outputs": [
        {
          "output_type": "stream",
          "name": "stdout",
          "text": [
            "The predicted job satisfaction for 3 years of tenure is: 7.191489361702127\n"
          ]
        }
      ]
    },
    {
      "cell_type": "markdown",
      "source": [
        "\n",
        "\n",
        "```\n",
        "9. Scenario: A study is conducted to compare the effectiveness of two different medications. The recovery times of the patients in each group are as follows:\n",
        "   Medication A: [10, 12, 14, 11, 13]\n",
        "   Medication B: [15, 17, 16, 14, 18]\n",
        "   Perform an analysis of variance (ANOVA) to determine if there is a significant difference in the mean recovery times between the two medications\n",
        "\n",
        "```\n",
        "\n"
      ],
      "metadata": {
        "id": "ZfmRJqhHwqti"
      }
    },
    {
      "cell_type": "code",
      "source": [
        "import numpy as np\n",
        "from scipy.stats import f\n",
        "\n",
        "medication_a = [10, 12, 14, 11, 13]\n",
        "medication_b = [15, 17, 16, 14, 18]\n",
        "\n",
        "# Step 2: Calculate the means\n",
        "mean_a = np.mean(medication_a)\n",
        "mean_b = np.mean(medication_b)\n",
        "\n",
        "# Step 3: Calculate the sum of squares between treatments (SSA)\n",
        "ssa = len(medication_a) * (mean_a - np.mean([mean_a, mean_b]))**2 + len(medication_b) * (mean_b - np.mean([mean_a, mean_b]))**2\n",
        "\n",
        "# Step 4: Calculate the sum of squares within treatments (SSE)\n",
        "sse = np.sum((medication_a - mean_a)**2) + np.sum((medication_b - mean_b)**2)\n",
        "\n",
        "# Step 5: Calculate the mean square between treatments (MSA)\n",
        "msa = ssa / 1\n",
        "\n",
        "# Step 6: Calculate the mean square within treatments (MSE)\n",
        "mse = sse / (len(medication_a) + len(medication_b) - 2)\n",
        "\n",
        "# Step 7: Calculate the F-statistic\n",
        "f_statistic = msa / mse\n",
        "\n",
        "# Step 8: Determine the critical F-value (assuming alpha = 0.05 and degrees of freedom = 1, N - 2)\n",
        "critical_f = f.ppf(0.95, 1, len(medication_a) + len(medication_b) - 2)\n",
        "\n",
        "# Step 9: Compare the F-statistic with the critical F-value\n",
        "if f_statistic > critical_f:\n",
        "    print(\"There is a significant difference in the mean recovery times between Medication A and Medication B.\")\n",
        "else:\n",
        "    print(\"There is no significant difference in the mean recovery times between Medication A and Medication B.\")\n"
      ],
      "metadata": {
        "colab": {
          "base_uri": "https://localhost:8080/"
        },
        "id": "ZAFXz65lv5aU",
        "outputId": "f19d8879-12e8-4bff-e769-e6d8a783d873"
      },
      "execution_count": null,
      "outputs": [
        {
          "output_type": "stream",
          "name": "stdout",
          "text": [
            "There is a significant difference in the mean recovery times between Medication A and Medication B.\n"
          ]
        }
      ]
    },
    {
      "cell_type": "markdown",
      "source": [
        "\n",
        "\n",
        "```\n",
        "10. Scenario: A company wants to analyze customer feedback ratings on a scale of 1 to 10. The data collected is\n",
        "\n",
        " as follows:\n",
        "    [8, 9, 7, 6, 8, 10, 9, 8, 7, 8]\n",
        "    Calculate the 75th percentile of the feedback ratings.\n",
        "\n",
        "```\n",
        "\n"
      ],
      "metadata": {
        "id": "OC5Ims5Ny9dy"
      }
    },
    {
      "cell_type": "code",
      "source": [
        "feedbacks = [8, 9, 7, 6, 10, 9, 8, 7, 8]\n",
        "# sort the list\n",
        "sorted = [6, 7, 7, 8, 8, 8, 9, 9, 10]\n",
        "# length of feedbacks in the list\n",
        "n = len(feedbacks)\n",
        "#value = (percentile/100)*(n+1)\n",
        "value = (75/100)*(n+1)\n",
        "int(value)"
      ],
      "metadata": {
        "colab": {
          "base_uri": "https://localhost:8080/"
        },
        "id": "Q6gsxPxhy_7t",
        "outputId": "1caed225-882f-4ad2-a05e-5bfb72b7f628"
      },
      "execution_count": null,
      "outputs": [
        {
          "output_type": "execute_result",
          "data": {
            "text/plain": [
              "7"
            ]
          },
          "metadata": {},
          "execution_count": 16
        }
      ]
    },
    {
      "cell_type": "markdown",
      "source": [
        "\n",
        "\n",
        "```\n",
        "11. Scenario: A quality control department wants to test the weight consistency of a product. The weights of a sample of products are as follows:\n",
        "    [10.2, 9.8, 10.0, 10.5, 10.3, 10.1]\n",
        "    Perform a hypothesis test to determine if the mean weight differs significantly from 10 grams\n",
        "\n",
        "```\n",
        "\n"
      ],
      "metadata": {
        "id": "0eKMu9jfBuQF"
      }
    },
    {
      "cell_type": "markdown",
      "source": [
        "\n",
        "\n",
        "```\n",
        "Step 1: Null Hypothesis: The mean weight is 10 grams\n",
        "\n",
        "Step 2: Alternate Hypothesis: The mean weight is not 10 grams\n",
        "\n",
        "Step 3: It is T-test\n",
        "* It is a two tail test\n",
        "* We have to perform t-test\n",
        " -> The sample size is small (n=6)\n",
        " -> Population standard deviation is unknown.\n",
        "* Significance value(alpha) = 0.05\n",
        "\n",
        "n=6\n",
        "degree of freedom = n- 1=> 6-1 => 5\n",
        "t-test = (x̄ - μ) / (s / √n)\n",
        "where x̄ is the sample mean, μ is the hypothesized mean (10 grams), s is the sample standard deviation, and n is the sample size.\n",
        "```\n",
        "\n"
      ],
      "metadata": {
        "id": "eBP0q5AoBzLu"
      }
    },
    {
      "cell_type": "code",
      "source": [
        "import numpy as np\n",
        "sample_mean = (10.2+ 9.8 + 10.0 + 10.5 + 10.3 + 10.1)/6\n",
        "sample_mean"
      ],
      "metadata": {
        "colab": {
          "base_uri": "https://localhost:8080/"
        },
        "id": "NircsEnlzpe-",
        "outputId": "439df4fe-c842-48e6-b661-cbbe0c1f00a3"
      },
      "execution_count": 2,
      "outputs": [
        {
          "output_type": "execute_result",
          "data": {
            "text/plain": [
              "10.15"
            ]
          },
          "metadata": {},
          "execution_count": 2
        }
      ]
    },
    {
      "cell_type": "code",
      "source": [
        "# Sample standard deviation\n",
        "sample_std = round(np.std([10.2, 9.8, 10.0, 10.5, 10.3, 10.1]),2)\n",
        "sample_std"
      ],
      "metadata": {
        "id": "QUMMSqR7z07b",
        "colab": {
          "base_uri": "https://localhost:8080/"
        },
        "outputId": "c225a328-f816-41f5-a024-860d28e1ecd6"
      },
      "execution_count": 5,
      "outputs": [
        {
          "output_type": "execute_result",
          "data": {
            "text/plain": [
              "0.22"
            ]
          },
          "metadata": {},
          "execution_count": 5
        }
      ]
    },
    {
      "cell_type": "code",
      "source": [
        "n=6"
      ],
      "metadata": {
        "id": "0qcmcP5HHPs0"
      },
      "execution_count": 8,
      "outputs": []
    },
    {
      "cell_type": "code",
      "source": [
        "t_test = (sample_mean - 10)/(sample_std/np.sqrt(n))"
      ],
      "metadata": {
        "id": "QR85PKajG4Z_"
      },
      "execution_count": 9,
      "outputs": []
    },
    {
      "cell_type": "code",
      "source": [
        "t_test"
      ],
      "metadata": {
        "colab": {
          "base_uri": "https://localhost:8080/"
        },
        "id": "jJed1AjUHKxQ",
        "outputId": "1934dd7f-306f-4ccf-971b-e3ab59a92e3e"
      },
      "execution_count": 10,
      "outputs": [
        {
          "output_type": "execute_result",
          "data": {
            "text/plain": [
              "1.6701066428067162"
            ]
          },
          "metadata": {},
          "execution_count": 10
        }
      ]
    },
    {
      "cell_type": "markdown",
      "source": [
        "\n",
        "\n",
        "```\n",
        "critical value of two tail test with significance value(0.05) is +-2.57\n",
        "Step 4: Conclusion\n",
        "Now, compare the calculated t-test value of 1.67 with the critical value:\n",
        "\n",
        "    If |t-test| < critical value, you fail to reject the null hypothesis.\n",
        "    If |t-test| ≥ critical value, you reject the null hypothesis.\n",
        "\n",
        "In this case, |1.67| < 2.571, so you fail to reject the null hypothesis. There is not enough evidence to conclude that the mean weight differs significantly from 10 grams based on the given sample.\n",
        "```\n",
        "\n"
      ],
      "metadata": {
        "id": "fHuoeQR1IIsB"
      }
    },
    {
      "cell_type": "markdown",
      "source": [
        "\n",
        "\n",
        "```\n",
        "12. Scenario: A company wants to analyze the click-through rates of two different website designs. The number of clicks for each design is as follows:\n",
        "    Design A: [100, 120, 110, 90, 95]\n",
        "    Design B: [80, 85, 90, 95, 100]\n",
        "    Perform a chi-square test to determine if there is a significant difference in the click-through rates between the two designs.\n",
        "\n",
        "```\n",
        "\n"
      ],
      "metadata": {
        "id": "VIIeSHydIvnr"
      }
    },
    {
      "cell_type": "markdown",
      "source": [
        "\n",
        "\n",
        "```\n",
        "Since click-through rates are continuous data, a chi-square test is not appropriate. Instead, we can use a t-test or an analysis of variance (ANOVA) to compare the click-through rates between the two designs. In this case, we have two independent groups (Design A and Design B), and we can perform an independent samples t-test to determine if there is a significant difference in the means of the click-through rates.\n",
        "\n",
        "Here are the steps to perform an independent samples t-test:\n",
        "\n",
        "    State the null hypothesis (H0) and alternative hypothesis (Ha):\n",
        "        H0: There is no significant difference in the mean click-through rates between Design A and Design B.\n",
        "        Ha: There is a significant difference in the mean click-through rates between Design A and Design B.\n",
        "\n",
        "    Choose the significance level (α) to determine the level of significance for the test (e.g., α = 0.05).\n",
        "\n",
        "    Calculate the mean and standard deviation of click-through rates for each design (Design A and Design B) based on the provided data.\n",
        "\n",
        "    Perform the independent samples t-test using a statistical software or programming language. The t-test will calculate the test statistic and p-value.\n",
        "\n",
        "    Interpret the results by comparing the obtained p-value to the chosen significance level (α). If the p-value is less than α, reject the null hypothesis and conclude that there is a significant difference in the mean click-through rates between the two designs. If the p-value is greater than or equal to α, fail to reject the null hypothesis and conclude that there is no significant difference in the mean click-through rates between the two designs.\n",
        "\n",
        "In this case, you can calculate the t-test using the click-through rate data for Design A and Design B to determine if there is a significant difference in the means.\n",
        "```\n",
        "\n"
      ],
      "metadata": {
        "id": "NmCmbhZPK7e6"
      }
    },
    {
      "cell_type": "markdown",
      "source": [
        "\n",
        "\n",
        "```\n",
        "13. Scenario: A survey is conducted to measure customer satisfaction with a product on a scale of 1 to 10. The data collected is as follows:\n",
        "    [7, 9, 6, 8, 10, 7, 8, 9, 7, 8]\n",
        "    Calculate the 95% confidence interval for the population mean satisfaction score.\n",
        "\n",
        "```\n",
        "\n"
      ],
      "metadata": {
        "id": "subArmXuLAUE"
      }
    },
    {
      "cell_type": "code",
      "source": [
        "mean = np.mean([7, 9, 6, 8, 10, 7, 8, 9, 7, 8])\n",
        "mean"
      ],
      "metadata": {
        "colab": {
          "base_uri": "https://localhost:8080/"
        },
        "id": "8XuZuhOXIH-_",
        "outputId": "1b48c400-c110-4038-c45a-3a405d292380"
      },
      "execution_count": 11,
      "outputs": [
        {
          "output_type": "execute_result",
          "data": {
            "text/plain": [
              "7.9"
            ]
          },
          "metadata": {},
          "execution_count": 11
        }
      ]
    },
    {
      "cell_type": "code",
      "source": [
        "std = round(np.std([7, 9, 6, 8, 10, 7, 8, 9, 7, 8]),2)\n",
        "std"
      ],
      "metadata": {
        "colab": {
          "base_uri": "https://localhost:8080/"
        },
        "id": "FOGlIhWLHR8_",
        "outputId": "4f6feadd-bfff-48fb-af77-5a7ca01a3d16"
      },
      "execution_count": 13,
      "outputs": [
        {
          "output_type": "execute_result",
          "data": {
            "text/plain": [
              "1.14"
            ]
          },
          "metadata": {},
          "execution_count": 13
        }
      ]
    },
    {
      "cell_type": "code",
      "source": [
        "n = 10\n",
        "confidence_interval = 0.95\n",
        "alpha = round(1 - confidence_interval,2)\n",
        "alpha"
      ],
      "metadata": {
        "colab": {
          "base_uri": "https://localhost:8080/"
        },
        "id": "ubJRcWTfLReN",
        "outputId": "2d12419c-378a-4b33-be85-3c46250831ac"
      },
      "execution_count": 15,
      "outputs": [
        {
          "output_type": "execute_result",
          "data": {
            "text/plain": [
              "0.05"
            ]
          },
          "metadata": {},
          "execution_count": 15
        }
      ]
    },
    {
      "cell_type": "markdown",
      "source": [
        "\n",
        "\n",
        "```\n",
        "lower_ci = point_estimate - margin_of_error\n",
        "```\n",
        "\n"
      ],
      "metadata": {
        "id": "cUjGBTWkMALQ"
      }
    },
    {
      "cell_type": "markdown",
      "source": [
        "\n",
        "\n",
        "```\n",
        "lower_ci = point_estimate(mean) - z_alpha/2*(std/np.sqrt(n))\n",
        "```\n",
        "\n"
      ],
      "metadata": {
        "id": "KTfBB9tvMVQ5"
      }
    },
    {
      "cell_type": "markdown",
      "source": [
        "The z-value for 95% confidence interval is 1.96\n",
        "\n",
        "**why z-value?**\n",
        "Because population standard deviation is given"
      ],
      "metadata": {
        "id": "gsFD0kHXMnFv"
      }
    },
    {
      "cell_type": "code",
      "source": [
        "lower_ci = 7.9 - 1.96*(std/np.sqrt(n))"
      ],
      "metadata": {
        "id": "yeY3x9x2MXnD"
      },
      "execution_count": 18,
      "outputs": []
    },
    {
      "cell_type": "code",
      "source": [
        "lower_ci = round(lower_ci, 2)\n",
        "lower_ci"
      ],
      "metadata": {
        "colab": {
          "base_uri": "https://localhost:8080/"
        },
        "id": "fpSZ700BLwQL",
        "outputId": "831e81c0-66fa-44e7-9e23-2f1580c6257c"
      },
      "execution_count": 22,
      "outputs": [
        {
          "output_type": "execute_result",
          "data": {
            "text/plain": [
              "7.19"
            ]
          },
          "metadata": {},
          "execution_count": 22
        }
      ]
    },
    {
      "cell_type": "markdown",
      "source": [
        "\n",
        "\n",
        "```\n",
        "**higher_ci = point_estimate + margin_of_error**\n",
        "\n",
        "higher_ci = point_estimate(mean) + z_alpha/2*(std/np.sqrt(n))\n",
        "```\n",
        "\n"
      ],
      "metadata": {
        "id": "zZPCAu7ZNLmJ"
      }
    },
    {
      "cell_type": "code",
      "source": [
        "higher_ci = 7.9 + 1.96*(std/np.sqrt(n))\n",
        "higher_ci = round(higher_ci, 2)\n",
        "higher_ci"
      ],
      "metadata": {
        "colab": {
          "base_uri": "https://localhost:8080/"
        },
        "id": "8hS5LOIbMtVU",
        "outputId": "5beb05ec-5333-432d-bf98-4108dd7c059d"
      },
      "execution_count": 24,
      "outputs": [
        {
          "output_type": "execute_result",
          "data": {
            "text/plain": [
              "8.61"
            ]
          },
          "metadata": {},
          "execution_count": 24
        }
      ]
    },
    {
      "cell_type": "markdown",
      "source": [
        "\n",
        "\n",
        "```\n",
        "The confidence interval is define as the range between lower fence and higher fence.\n",
        "* Here 7.19 and 8.61\n",
        "```\n",
        "\n"
      ],
      "metadata": {
        "id": "9A0izPNANfbR"
      }
    },
    {
      "cell_type": "markdown",
      "source": [
        "\n",
        "\n",
        "```\n",
        "14. Scenario: A company wants to analyze the effect of temperature on product performance. The data collected is as follows:\n",
        "    Temperature (in degrees Celsius): [20, 22, 23, 19, 21]\n",
        "    Performance (on a scale of 1 to 10): [8, 7, 9, 6, 8]\n",
        "    Perform a simple linear regression to predict performance based on temperature.\n",
        "\n",
        "```\n",
        "\n"
      ],
      "metadata": {
        "id": "PgJ2O16xNs_p"
      }
    },
    {
      "cell_type": "code",
      "source": [
        "temperature = [20, 22, 23, 19, 21]\n",
        "performance = [8, 7, 9, 6, 8]\n"
      ],
      "metadata": {
        "id": "VL9nC2cuNeuI"
      },
      "execution_count": 25,
      "outputs": []
    },
    {
      "cell_type": "code",
      "source": [
        "import seaborn as sns\n",
        "import matplotlib.pyplot as plt\n",
        "sns.scatterplot(x=temperature, y=performance)\n",
        "plt.xlabel('Temperature')\n",
        "plt.ylabel('Performance')\n",
        "plt.show();"
      ],
      "metadata": {
        "colab": {
          "base_uri": "https://localhost:8080/",
          "height": 449
        },
        "id": "1_sDX1IuMzwi",
        "outputId": "aa008924-8d2c-4287-aa80-d6e92ec6c5dd"
      },
      "execution_count": 35,
      "outputs": [
        {
          "output_type": "display_data",
          "data": {
            "text/plain": [
              "<Figure size 640x480 with 1 Axes>"
            ],
            "image/png": "[encoded data removed]"
          },
          "metadata": {}
        }
      ]
    },
    {
      "cell_type": "code",
      "source": [
        "from sklearn.linear_model import LinearRegression\n",
        "\n",
        "# Create linear regression object\n",
        "regression_model = LinearRegression()\n",
        "\n",
        "# Fit the model\n",
        "regression_model.fit([[temp] for temp in temperature], performance)\n"
      ],
      "metadata": {
        "colab": {
          "base_uri": "https://localhost:8080/",
          "height": 74
        },
        "id": "G_8Hm5W3OFrS",
        "outputId": "72d7b3e4-1845-4f28-cd4a-84987c0d9dca"
      },
      "execution_count": 36,
      "outputs": [
        {
          "output_type": "execute_result",
          "data": {
            "text/plain": [
              "LinearRegression()"
            ],
            "text/html": [
              "<style>#sk-container-id-1 {color: black;background-color: white;}#sk-container-id-1 pre{padding: 0;}#sk-container-id-1 div.sk-toggleable {background-color: white;}#sk-container-id-1 label.sk-toggleable__label {cursor: pointer;display: block;width: 100%;margin-bottom: 0;padding: 0.3em;box-sizing: border-box;text-align: center;}#sk-container-id-1 label.sk-toggleable__label-arrow:before {content: \"▸\";float: left;margin-right: 0.25em;color: #696969;}#sk-container-id-1 label.sk-toggleable__label-arrow:hover:before {color: black;}#sk-container-id-1 div.sk-estimator:hover label.sk-toggleable__label-arrow:before {color: black;}#sk-container-id-1 div.sk-toggleable__content {max-height: 0;max-width: 0;overflow: hidden;text-align: left;background-color: #f0f8ff;}#sk-container-id-1 div.sk-toggleable__content pre {margin: 0.2em;color: black;border-radius: 0.25em;background-color: #f0f8ff;}#sk-container-id-1 input.sk-toggleable__control:checked~div.sk-toggleable__content {max-height: 200px;max-width: 100%;overflow: auto;}#sk-container-id-1 input.sk-toggleable__control:checked~label.sk-toggleable__label-arrow:before {content: \"▾\";}#sk-container-id-1 div.sk-estimator input.sk-toggleable__control:checked~label.sk-toggleable__label {background-color: #d4ebff;}#sk-container-id-1 div.sk-label input.sk-toggleable__control:checked~label.sk-toggleable__label {background-color: #d4ebff;}#sk-container-id-1 input.sk-hidden--visually {border: 0;clip: rect(1px 1px 1px 1px);clip: rect(1px, 1px, 1px, 1px);height: 1px;margin: -1px;overflow: hidden;padding: 0;position: absolute;width: 1px;}#sk-container-id-1 div.sk-estimator {font-family: monospace;background-color: #f0f8ff;border: 1px dotted black;border-radius: 0.25em;box-sizing: border-box;margin-bottom: 0.5em;}#sk-container-id-1 div.sk-estimator:hover {background-color: #d4ebff;}#sk-container-id-1 div.sk-parallel-item::after {content: \"\";width: 100%;border-bottom: 1px solid gray;flex-grow: 1;}#sk-container-id-1 div.sk-label:hover label.sk-toggleable__label {background-color: #d4ebff;}#sk-container-id-1 div.sk-serial::before {content: \"\";position: absolute;border-left: 1px solid gray;box-sizing: border-box;top: 0;bottom: 0;left: 50%;z-index: 0;}#sk-container-id-1 div.sk-serial {display: flex;flex-direction: column;align-items: center;background-color: white;padding-right: 0.2em;padding-left: 0.2em;position: relative;}#sk-container-id-1 div.sk-item {position: relative;z-index: 1;}#sk-container-id-1 div.sk-parallel {display: flex;align-items: stretch;justify-content: center;background-color: white;position: relative;}#sk-container-id-1 div.sk-item::before, #sk-container-id-1 div.sk-parallel-item::before {content: \"\";position: absolute;border-left: 1px solid gray;box-sizing: border-box;top: 0;bottom: 0;left: 50%;z-index: -1;}#sk-container-id-1 div.sk-parallel-item {display: flex;flex-direction: column;z-index: 1;position: relative;background-color: white;}#sk-container-id-1 div.sk-parallel-item:first-child::after {align-self: flex-end;width: 50%;}#sk-container-id-1 div.sk-parallel-item:last-child::after {align-self: flex-start;width: 50%;}#sk-container-id-1 div.sk-parallel-item:only-child::after {width: 0;}#sk-container-id-1 div.sk-dashed-wrapped {border: 1px dashed gray;margin: 0 0.4em 0.5em 0.4em;box-sizing: border-box;padding-bottom: 0.4em;background-color: white;}#sk-container-id-1 div.sk-label label {font-family: monospace;font-weight: bold;display: inline-block;line-height: 1.2em;}#sk-container-id-1 div.sk-label-container {text-align: center;}#sk-container-id-1 div.sk-container {/* jupyter's `normalize.less` sets `[hidden] { display: none; }` but bootstrap.min.css set `[hidden] { display: none !important; }` so we also need the `!important` here to be able to override the default hidden behavior on the sphinx rendered scikit-learn.org. See: https://github.com/scikit-learn/scikit-learn/issues/21755 */display: inline-block !important;position: relative;}#sk-container-id-1 div.sk-text-repr-fallback {display: none;}</style><div id=\"sk-container-id-1\" class=\"sk-top-container\"><div class=\"sk-text-repr-fallback\"><pre>LinearRegression()</pre><b>In a Jupyter environment, please rerun this cell to show the HTML representation or trust the notebook. <br />On GitHub, the HTML representation is unable to render, please try loading this page with nbviewer.org.</b></div><div class=\"sk-container\" hidden><div class=\"sk-item\"><div class=\"sk-estimator sk-toggleable\"><input class=\"sk-toggleable__control sk-hidden--visually\" id=\"sk-estimator-id-1\" type=\"checkbox\" checked><label for=\"sk-estimator-id-1\" class=\"sk-toggleable__label sk-toggleable__label-arrow\">LinearRegression</label><div class=\"sk-toggleable__content\"><pre>LinearRegression()</pre></div></div></div></div></div>"
            ]
          },
          "metadata": {},
          "execution_count": 36
        }
      ]
    },
    {
      "cell_type": "code",
      "source": [
        "# Get the coefficients\n",
        "intercept = regression_model.intercept_\n",
        "slope = regression_model.coef_[0]\n",
        "\n",
        "print(\"Intercept:\", intercept)\n",
        "print(\"Slope:\", slope)\n"
      ],
      "metadata": {
        "colab": {
          "base_uri": "https://localhost:8080/"
        },
        "id": "s_A0IcsjQXso",
        "outputId": "761f8992-48cd-4d03-cf8a-d110206ed0e8"
      },
      "execution_count": 37,
      "outputs": [
        {
          "output_type": "stream",
          "name": "stdout",
          "text": [
            "Intercept: -2.8999999999999986\n",
            "Slope: 0.4999999999999999\n"
          ]
        }
      ]
    },
    {
      "cell_type": "code",
      "source": [
        "# Predict performance for a temperature of 25°C\n",
        "new_temperature = 25\n",
        "predicted_performance = regression_model.predict([[new_temperature]])\n",
        "\n",
        "print(\"Predicted performance for a temperature of 25°C:\", predicted_performance[0])\n"
      ],
      "metadata": {
        "colab": {
          "base_uri": "https://localhost:8080/"
        },
        "id": "gHgIMVkWQa3c",
        "outputId": "1e771ecf-7f54-4c97-9434-efa785aa7a57"
      },
      "execution_count": 38,
      "outputs": [
        {
          "output_type": "stream",
          "name": "stdout",
          "text": [
            "Predicted performance for a temperature of 25°C: 9.599999999999998\n"
          ]
        }
      ]
    },
    {
      "cell_type": "code",
      "source": [
        "# Calculate R-squared\n",
        "r_squared = regression_model.score([[temp] for temp in temperature], performance)\n",
        "\n",
        "print(\"R-squared:\", r_squared)\n"
      ],
      "metadata": {
        "colab": {
          "base_uri": "https://localhost:8080/"
        },
        "id": "zcV0uom2QfyY",
        "outputId": "69dfea0b-ffaa-401e-89a9-61fc595e7e93"
      },
      "execution_count": 40,
      "outputs": [
        {
          "output_type": "stream",
          "name": "stdout",
          "text": [
            "R-squared: 0.4807692307692307\n"
          ]
        }
      ]
    },
    {
      "cell_type": "markdown",
      "source": [
        "\n",
        "\n",
        "```\n",
        "15. Scenario: A study is conducted to compare the preferences of two groups of participants. The preferences are measured on a Likert scale from 1 to 5. The data collected is as follows:\n",
        "    Group A: [4, 3, 5, 2, 4]\n",
        "    Group B: [3, 2, 4, 3, 3]\n",
        "    Perform a Mann-Whitney U test to determine if there is a significant difference in the median preferences between the two groups.\n",
        "\n",
        "\n",
        "```\n",
        "\n"
      ],
      "metadata": {
        "id": "60ObOpR8Yqt0"
      }
    },
    {
      "cell_type": "markdown",
      "source": [
        "\n",
        "\n",
        "```\n",
        "1. Organize the data\n",
        "Group A: [4, 3, 5, 2, 4]\n",
        "Group B: [3, 2, 4, 3, 3]\n",
        "```\n",
        "\n",
        "2. Rank the data\n",
        "\n",
        "\n",
        "|Group | Data | Rank |\n",
        "-------|------|------|\n",
        "| A   | 4    |   7.5    |\n",
        "| A   | 3    |   3.5    |\n",
        "| A   | 5    |   10    |\n",
        "| A   | 2    |     1  |\n",
        "| A   | 4   |   7.5    |\n",
        "| B   | 3    |   3.5    |\n",
        "| B   | 4  |    7.5   |\n",
        "| B   | 3    |  3.5     |\n",
        "| B   | 3    |    3.5   |\n",
        "\n",
        "\n",
        "```\n",
        "\n",
        "  3. Calculate the U statistic:\n",
        "    Calculate the U statistic using the ranked data. U statistic can be calculated as:\n",
        "    U = n1 * n2 + (n1 * (n1 + 1)) / 2 - R1\n",
        "    where n1 is the sample size of Group A, n2 is the sample size of Group B, and R1 is the sum of ranks in Group A.\n",
        "\n",
        "    n1 = 5 (sample size of Group A)\n",
        "    n2 = 5 (sample size of Group B)\n",
        "    R1 = 7.5 + 3.5 + 10 + 1 + 7.5 = 29.5\n",
        "\n",
        "    U = 5 * 5 + (5 * (5 + 1)) / 2 - 29.5\n",
        "    = 25 + 15/2 - 29.5\n",
        "    = 12.5\n",
        "```\n",
        "\n",
        "```\n",
        "  4. Determine the critical value:\n",
        "    Determine the critical value of U at a desired significance level (e.g., α = 0.05). You can refer to the Mann-Whitney U critical values table or use statistical software.\n",
        "\n",
        "  5.Compare the U statistic with the critical value:\n",
        "    If the U statistic is less than the critical value, reject the null hypothesis and conclude that there is a significant difference in the median preferences between the two groups. If the U statistic is greater than or equal to the critical value, fail to reject the null hypothesis and conclude that there is no significant difference in the median preferences.\n",
        "\n",
        "In this case, you need to determine the critical value for U at α = 0.05 and compare it with the calculated U statistic of 12.5. Based on the comparison, you can make a decision regarding the significant difference in the median preferences between Group A and Group B.\n",
        "```"
      ],
      "metadata": {
        "id": "gg_d9vuPcWkS"
      }
    },
    {
      "cell_type": "markdown",
      "source": [
        "```\n",
        "16. Scenario: A company wants to analyze the distribution of customer ages. The data collected is as follows:\n",
        "    [25, 30, 35, 40, 45, 50, 55, 60, 65, 70]\n",
        "    Calculate the interquartile range (IQR) of the ages.\n",
        "\n",
        "```"
      ],
      "metadata": {
        "id": "uOPTGd79fKpi"
      }
    },
    {
      "cell_type": "markdown",
      "source": [
        "\n",
        "\n",
        "```\n",
        "It is a five number summary problem\n",
        "1. Number(minimum)\n",
        "2. First Quartile(Q1)\n",
        "3. Median(M)\n",
        "4. Third Quartile(Q3)\n",
        "5. Maximum\n",
        "```\n",
        "\n"
      ],
      "metadata": {
        "id": "n6FMCHkcfo0u"
      }
    },
    {
      "cell_type": "code",
      "source": [
        "# Organize the data\n",
        "data = [25, 30, 35, 40, 45, 50, 55, 60, 65, 70]"
      ],
      "metadata": {
        "id": "Pho5agRXejuy"
      },
      "execution_count": 43,
      "outputs": []
    },
    {
      "cell_type": "markdown",
      "source": [
        "\n",
        "\n",
        "```\n",
        "# Calculate lower fence and higher fence\n",
        "lower_fence = Q1 - 1.5(IQR)\n",
        "higher_fence = Q3 + 1.5(IQR)\n",
        "IQR = Q3 - Q1\n",
        "```\n",
        "\n"
      ],
      "metadata": {
        "id": "bq_oOaeTgWrO"
      }
    },
    {
      "cell_type": "markdown",
      "source": [
        "\n",
        "\n",
        "```\n",
        "Q1 = (percentile/100)*(n+1)\n",
        "Q3 = (percentile/100)*(n+1)\n",
        "percentile for Q1 is 25 and Q2 is 75\n",
        "```\n",
        "\n"
      ],
      "metadata": {
        "id": "RHN4tvOsgmG8"
      }
    },
    {
      "cell_type": "code",
      "source": [
        "n = len(data)\n",
        "Q1 = round((25/100)*(n+1))\n",
        "Q3 = round((75/100)*(n+1))\n",
        "print(f\"Quartile 1: {Q1} index and Quartile 3: {Q3} index\")"
      ],
      "metadata": {
        "colab": {
          "base_uri": "https://localhost:8080/"
        },
        "id": "jf6yXhF7YsbF",
        "outputId": "30a4dca6-1377-40b2-d6d8-4a9a641e9efb"
      },
      "execution_count": 49,
      "outputs": [
        {
          "output_type": "stream",
          "name": "stdout",
          "text": [
            "Quartile 1: 3 index and Quartile 3: 8 index\n"
          ]
        }
      ]
    },
    {
      "cell_type": "code",
      "source": [
        "IQR = data[Q3-1] - data[Q1-1]\n",
        "print(f\"The IQR range of ages is {IQR}\")"
      ],
      "metadata": {
        "colab": {
          "base_uri": "https://localhost:8080/"
        },
        "id": "avgwPwixg-3m",
        "outputId": "be8b55ff-8549-43b8-d847-78066bd9a2f2"
      },
      "execution_count": 56,
      "outputs": [
        {
          "output_type": "stream",
          "name": "stdout",
          "text": [
            "The IQR range of ages is 25\n"
          ]
        }
      ]
    },
    {
      "cell_type": "code",
      "source": [
        "lower_fence = Q1-1.5*(IQR)\n",
        "higher_fence = Q3+1.5*(IQR)"
      ],
      "metadata": {
        "id": "blGeg7aChjhG"
      },
      "execution_count": 54,
      "outputs": []
    },
    {
      "cell_type": "code",
      "source": [
        "lower_fence, higher_fence"
      ],
      "metadata": {
        "colab": {
          "base_uri": "https://localhost:8080/"
        },
        "id": "Fqunnekhh04p",
        "outputId": "1bc05ebc-f200-4e10-a571-99593a427535"
      },
      "execution_count": 55,
      "outputs": [
        {
          "output_type": "execute_result",
          "data": {
            "text/plain": [
              "(-34.5, 45.5)"
            ]
          },
          "metadata": {},
          "execution_count": 55
        }
      ]
    },
    {
      "cell_type": "markdown",
      "source": [
        "\n",
        "\n",
        "```\n",
        "17. Scenario: A study is conducted to compare the performance of three different machine learning algorithms. The accuracy scores for each algorithm are as follows:\n",
        "    Algorithm A: [0.85, 0.80, 0.82, 0.87, 0.83]\n",
        "    Algorithm B: [0.78, 0.82, 0.84, 0.80, 0.79]\n",
        "    Algorithm C: [0.90, 0.88, 0.89, 0.86, 0.87]\n",
        "    Perform a Kruskal-Wallis test to determine if there is a significant difference in the median accuracy scores between the algorithms.\n",
        "\n",
        "```\n",
        "\n"
      ],
      "metadata": {
        "id": "tmwD2_LCivdc"
      }
    },
    {
      "cell_type": "markdown",
      "source": [
        "\n",
        "\n",
        "```\n",
        "Step 1: Define the hypotheses:\n",
        "\n",
        "    Null hypothesis (H0): There is no significant difference in the median accuracy scores between the algorithms.\n",
        "    Alternative hypothesis (H1): There is a significant difference in the median accuracy scores between the algorithms.\n",
        "\n",
        "Step 2: Calculate the ranks:\n",
        "Combine all the accuracy scores and assign ranks to them. In case of ties, assign average ranks.\n",
        "\n",
        "Algorithm A: [0.85, 0.80, 0.82, 0.87, 0.83] (nA = 5)\n",
        "Algorithm B: [0.78, 0.82, 0.84, 0.80, 0.79] (nB = 5)\n",
        "Algorithm C: [0.90, 0.88, 0.89, 0.86, 0.87] (nC = 5)\n",
        "\n",
        "Combined data: [0.85, 0.80, 0.82, 0.87, 0.83, 0.78, 0.82, 0.84, 0.80, 0.79, 0.90, 0.88, 0.89, 0.86, 0.87]\n",
        "\n",
        "Sorted combined data: [0.78, 0.79, 0.80, 0.80, 0.82, 0.82, 0.83, 0.84, 0.85, 0.86, 0.87, 0.87, 0.88, 0.89, 0.90]\n",
        "\n",
        "Assigning ranks:\n",
        "0.78 - Rank 1\n",
        "0.79 - Rank 2\n",
        "0.80 - Rank 3.5 (average of ranks 3 and 4)\n",
        "0.80 - Rank 3.5 (average of ranks 3 and 4)\n",
        "0.82 - Rank 5.5 (average of ranks 5 and 6)\n",
        "0.82 - Rank 5.5 (average of ranks 5 and 6)\n",
        "0.83 - Rank 7\n",
        "0.84 - Rank 8\n",
        "0.85 - Rank 9\n",
        "0.86 - Rank 10.5 (average of ranks 10 and 11)\n",
        "0.87 - Rank 12.5 (average of ranks 12 and 13)\n",
        "0.87 - Rank 12.5 (average of ranks 12 and 13)\n",
        "0.88 - Rank 14\n",
        "0.89 - Rank 15\n",
        "0.90 - Rank 16\n",
        "\n",
        "Ranked data: [1, 2, 3.5, 3.5, 5.5, 5.5, 7, 8, 9, 10.5, 12.5, 12.5, 14, 15, 16]\n",
        "\n",
        "Step 3: Calculate the Kruskal-Wallis test statistic:\n",
        "Use the ranked data to calculate the Kruskal-Wallis test statistic.\n",
        "\n",
        "H = (12 * (sum of (Ri^2 / ni)) / (N(N+1))) - 3(N+1)\n",
        "\n",
        "where Ri is the sum of ranks for the i-th group, ni is the sample size of the i-th group, and N is the total sample size.\n",
        "\n",
        "Sum of ranks for each algorithm:\n",
        "RA = 9 + 10.5 + 12.5 + 14 + 15 = 61\n",
        "RB = 1 + 2 + 3.5 + 3.5 + 5.5 = 15.5\n",
        "RC = 7 + 8 + 9 = 24\n",
        "\n",
        "N = nA + nB + nC = 15\n",
        "\n",
        "H = (12 * ((61^2 / 5) + (15.5^2 / 5) + (24^2 / 3)) / (15 * (15+1))) - 3(15+1)\n",
        "\n",
        "Step 4: Determine the critical value or p-value:\n",
        "Compare the calculated test statistic to the critical value from the chi-square distribution with (k-1) degrees of freedom, where k is the number of groups. Alternatively, you can calculate the p-value associated with the test statistic.\n",
        "\n",
        "Step 5: Make a decision:\n",
        "If the test statistic is greater than the critical value or the p-value is less than the chosen significance level (e.g., 0.05), reject the null hypothesis. Otherwise, fail to reject the null hypothesis.\n",
        "```\n",
        "\n"
      ],
      "metadata": {
        "id": "QFmVfXNeisZb"
      }
    },
    {
      "cell_type": "markdown",
      "source": [
        "\n",
        "\n",
        "```\n",
        "18. Scenario: A company wants to analyze the effect of price on sales. The data collected is as follows:\n",
        "    Price (in dollars): [10, 15, 12, 8, 14]\n",
        "    Sales: [100, 80, 90, 110, 95]\n",
        "    Perform a simple linear regression to predict\n",
        "\n",
        " sales based on price.\n",
        "\n",
        "```\n",
        "\n"
      ],
      "metadata": {
        "id": "JW__qN_Diz-m"
      }
    },
    {
      "cell_type": "code",
      "source": [
        "price =[10, 15, 12, 8, 14]\n",
        "sales=[100, 80, 90, 110, 95]"
      ],
      "metadata": {
        "id": "s4uJJhguitzm"
      },
      "execution_count": 57,
      "outputs": []
    },
    {
      "cell_type": "code",
      "source": [
        "sns.scatterplot(x=price, y=sales)\n",
        "plt.xlabel('Price')\n",
        "plt.ylabel('Sales')\n",
        "plt.show();"
      ],
      "metadata": {
        "colab": {
          "base_uri": "https://localhost:8080/",
          "height": 449
        },
        "id": "jOzwivu3jPkq",
        "outputId": "bd813336-9466-482d-a87b-9474560f144b"
      },
      "execution_count": 58,
      "outputs": [
        {
          "output_type": "display_data",
          "data": {
            "text/plain": [
              "<Figure size 640x480 with 1 Axes>"
            ],
            "image/png": "[encoded data removed]"
          },
          "metadata": {}
        }
      ]
    },
    {
      "cell_type": "code",
      "source": [
        "# Create linear regression object\n",
        "regression_model = LinearRegression()\n",
        "\n",
        "# Fit the model\n",
        "regression_model.fit([[pri] for pri in price], sales)"
      ],
      "metadata": {
        "colab": {
          "base_uri": "https://localhost:8080/",
          "height": 74
        },
        "id": "cwRylJYijbVV",
        "outputId": "256bcad9-1fdb-4afa-dc7e-ca8e33073184"
      },
      "execution_count": 59,
      "outputs": [
        {
          "output_type": "execute_result",
          "data": {
            "text/plain": [
              "LinearRegression()"
            ],
            "text/html": [
              "<style>#sk-container-id-2 {color: black;background-color: white;}#sk-container-id-2 pre{padding: 0;}#sk-container-id-2 div.sk-toggleable {background-color: white;}#sk-container-id-2 label.sk-toggleable__label {cursor: pointer;display: block;width: 100%;margin-bottom: 0;padding: 0.3em;box-sizing: border-box;text-align: center;}#sk-container-id-2 label.sk-toggleable__label-arrow:before {content: \"▸\";float: left;margin-right: 0.25em;color: #696969;}#sk-container-id-2 label.sk-toggleable__label-arrow:hover:before {color: black;}#sk-container-id-2 div.sk-estimator:hover label.sk-toggleable__label-arrow:before {color: black;}#sk-container-id-2 div.sk-toggleable__content {max-height: 0;max-width: 0;overflow: hidden;text-align: left;background-color: #f0f8ff;}#sk-container-id-2 div.sk-toggleable__content pre {margin: 0.2em;color: black;border-radius: 0.25em;background-color: #f0f8ff;}#sk-container-id-2 input.sk-toggleable__control:checked~div.sk-toggleable__content {max-height: 200px;max-width: 100%;overflow: auto;}#sk-container-id-2 input.sk-toggleable__control:checked~label.sk-toggleable__label-arrow:before {content: \"▾\";}#sk-container-id-2 div.sk-estimator input.sk-toggleable__control:checked~label.sk-toggleable__label {background-color: #d4ebff;}#sk-container-id-2 div.sk-label input.sk-toggleable__control:checked~label.sk-toggleable__label {background-color: #d4ebff;}#sk-container-id-2 input.sk-hidden--visually {border: 0;clip: rect(1px 1px 1px 1px);clip: rect(1px, 1px, 1px, 1px);height: 1px;margin: -1px;overflow: hidden;padding: 0;position: absolute;width: 1px;}#sk-container-id-2 div.sk-estimator {font-family: monospace;background-color: #f0f8ff;border: 1px dotted black;border-radius: 0.25em;box-sizing: border-box;margin-bottom: 0.5em;}#sk-container-id-2 div.sk-estimator:hover {background-color: #d4ebff;}#sk-container-id-2 div.sk-parallel-item::after {content: \"\";width: 100%;border-bottom: 1px solid gray;flex-grow: 1;}#sk-container-id-2 div.sk-label:hover label.sk-toggleable__label {background-color: #d4ebff;}#sk-container-id-2 div.sk-serial::before {content: \"\";position: absolute;border-left: 1px solid gray;box-sizing: border-box;top: 0;bottom: 0;left: 50%;z-index: 0;}#sk-container-id-2 div.sk-serial {display: flex;flex-direction: column;align-items: center;background-color: white;padding-right: 0.2em;padding-left: 0.2em;position: relative;}#sk-container-id-2 div.sk-item {position: relative;z-index: 1;}#sk-container-id-2 div.sk-parallel {display: flex;align-items: stretch;justify-content: center;background-color: white;position: relative;}#sk-container-id-2 div.sk-item::before, #sk-container-id-2 div.sk-parallel-item::before {content: \"\";position: absolute;border-left: 1px solid gray;box-sizing: border-box;top: 0;bottom: 0;left: 50%;z-index: -1;}#sk-container-id-2 div.sk-parallel-item {display: flex;flex-direction: column;z-index: 1;position: relative;background-color: white;}#sk-container-id-2 div.sk-parallel-item:first-child::after {align-self: flex-end;width: 50%;}#sk-container-id-2 div.sk-parallel-item:last-child::after {align-self: flex-start;width: 50%;}#sk-container-id-2 div.sk-parallel-item:only-child::after {width: 0;}#sk-container-id-2 div.sk-dashed-wrapped {border: 1px dashed gray;margin: 0 0.4em 0.5em 0.4em;box-sizing: border-box;padding-bottom: 0.4em;background-color: white;}#sk-container-id-2 div.sk-label label {font-family: monospace;font-weight: bold;display: inline-block;line-height: 1.2em;}#sk-container-id-2 div.sk-label-container {text-align: center;}#sk-container-id-2 div.sk-container {/* jupyter's `normalize.less` sets `[hidden] { display: none; }` but bootstrap.min.css set `[hidden] { display: none !important; }` so we also need the `!important` here to be able to override the default hidden behavior on the sphinx rendered scikit-learn.org. See: https://github.com/scikit-learn/scikit-learn/issues/21755 */display: inline-block !important;position: relative;}#sk-container-id-2 div.sk-text-repr-fallback {display: none;}</style><div id=\"sk-container-id-2\" class=\"sk-top-container\"><div class=\"sk-text-repr-fallback\"><pre>LinearRegression()</pre><b>In a Jupyter environment, please rerun this cell to show the HTML representation or trust the notebook. <br />On GitHub, the HTML representation is unable to render, please try loading this page with nbviewer.org.</b></div><div class=\"sk-container\" hidden><div class=\"sk-item\"><div class=\"sk-estimator sk-toggleable\"><input class=\"sk-toggleable__control sk-hidden--visually\" id=\"sk-estimator-id-2\" type=\"checkbox\" checked><label for=\"sk-estimator-id-2\" class=\"sk-toggleable__label sk-toggleable__label-arrow\">LinearRegression</label><div class=\"sk-toggleable__content\"><pre>LinearRegression()</pre></div></div></div></div></div>"
            ]
          },
          "metadata": {},
          "execution_count": 59
        }
      ]
    },
    {
      "cell_type": "code",
      "source": [
        "# Get the coefficients\n",
        "intercept = regression_model.intercept_\n",
        "slope = regression_model.coef_[0]\n",
        "\n",
        "print(\"Intercept:\", intercept)\n",
        "print(\"Slope:\", slope)\n"
      ],
      "metadata": {
        "colab": {
          "base_uri": "https://localhost:8080/"
        },
        "id": "v_E4Lzb8jpdo",
        "outputId": "96b0b10c-bd2e-4f1d-8409-5437406781e6"
      },
      "execution_count": 60,
      "outputs": [
        {
          "output_type": "stream",
          "name": "stdout",
          "text": [
            "Intercept: 136.3719512195122\n",
            "Slope: -3.5060975609756095\n"
          ]
        }
      ]
    },
    {
      "cell_type": "code",
      "source": [
        "# Predict performance for a temperature of 25°C\n",
        "new_price = 25\n",
        "new_sales = regression_model.predict([[new_price]])\n",
        "\n",
        "print(\"Predicted sale:\", new_sales[0])"
      ],
      "metadata": {
        "colab": {
          "base_uri": "https://localhost:8080/"
        },
        "id": "znOl7yuljuuP",
        "outputId": "e9e85078-fe5b-4adc-bd61-75c464913143"
      },
      "execution_count": 63,
      "outputs": [
        {
          "output_type": "stream",
          "name": "stdout",
          "text": [
            "Predicted sale: 48.719512195121965\n"
          ]
        }
      ]
    },
    {
      "cell_type": "markdown",
      "source": [
        "\n",
        "\n",
        "```\n",
        "19. Scenario: A survey is conducted to measure the satisfaction levels of customers with a new product. The data collected is as follows:\n",
        "    [7, 8, 9, 6, 8, 7, 9, 7, 8, 7]\n",
        "    Calculate the standard error of the mean satisfaction score.\n",
        "\n",
        "```\n",
        "\n"
      ],
      "metadata": {
        "id": "ok0FjwLNkK60"
      }
    },
    {
      "cell_type": "markdown",
      "source": [
        "\n",
        "\n",
        "```\n",
        "To calculate the standard error of the mean satisfaction score, you can follow these steps:\n",
        "\n",
        "Step 1: Collect the data:\n",
        "The data collected for the satisfaction levels of customers is as follows:\n",
        "[7, 8, 9, 6, 8, 7, 9, 7, 8, 7]\n",
        "\n",
        "Step 2: Calculate the mean:\n",
        "Calculate the mean of the satisfaction scores by summing up all the scores and dividing by the total number of scores:\n",
        "Mean = (7 + 8 + 9 + 6 + 8 + 7 + 9 + 7 + 8 + 7) / 10 = 7.8\n",
        "\n",
        "Step 3: Calculate the standard deviation:\n",
        "Calculate the standard deviation of the satisfaction scores, which measures the variability of the scores around the mean. Use the formula:\n",
        "\n",
        "Standard Deviation = sqrt((∑(Xi - X)^2) / (N - 1))\n",
        "\n",
        "where Xi represents each individual score, X represents the mean, and N represents the total number of scores.\n",
        "\n",
        "For the given data, the calculations are as follows:\n",
        "\n",
        "Standard Deviation = sqrt(((7 - 7.8)^2 + (8 - 7.8)^2 + (9 - 7.8)^2 + (6 - 7.8)^2 + (8 - 7.8)^2 + (7 - 7.8)^2 + (9 - 7.8)^2 + (7 - 7.8)^2 + (8 - 7.8)^2 + (7 - 7.8)^2) / (10 - 1))\n",
        "= sqrt((0.64 + 0.04 + 1.44 + 2.44 + 0.04 + 0.04 + 1.44 + 0.04 + 0.04 + 0.04) / 9)\n",
        "= sqrt(6.24 / 9)\n",
        "= sqrt(0.693)\n",
        "\n",
        "Step 4: Calculate the standard error of the mean:\n",
        "The standard error of the mean is calculated by dividing the standard deviation by the square root of the number of observations. Use the formula:\n",
        "\n",
        "Standard Error = Standard Deviation / sqrt(N)\n",
        "\n",
        "For the given data:\n",
        "\n",
        "Standard Error = sqrt(0.693) / sqrt(10)\n",
        "= 0.263\n",
        "\n",
        "Therefore, the standard error of the mean satisfaction score is 0.263.\n",
        "\n",
        "The standard error of the mean provides an estimate of the variability or uncertainty in the sample mean. It is used to quantify the precision of the sample mean as an estimate of the population mean.\n",
        "```\n",
        "\n"
      ],
      "metadata": {
        "id": "4jqopUm3kZZ3"
      }
    },
    {
      "cell_type": "code",
      "source": [],
      "metadata": {
        "id": "Regq64GLj7yF"
      },
      "execution_count": null,
      "outputs": []
    }
  ]
}