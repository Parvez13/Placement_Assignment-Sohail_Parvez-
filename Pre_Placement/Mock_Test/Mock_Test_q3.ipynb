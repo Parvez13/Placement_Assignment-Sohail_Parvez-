{
  "nbformat": 4,
  "nbformat_minor": 0,
  "metadata": {
    "colab": {
      "provenance": []
    },
    "kernelspec": {
      "name": "python3",
      "display_name": "Python 3"
    },
    "language_info": {
      "name": "python"
    }
  },
  "cells": [
    {
      "cell_type": "markdown",
      "source": [
        "### 19. Write a function called ‘calculate_mean’ that takes a list of numbers as input and returns the mean (average) of the numbers. The function should calculate the mean using the sum of the numbers divided by the total count."
      ],
      "metadata": {
        "id": "hxgfIdHcaRr7"
      }
    },
    {
      "cell_type": "code",
      "execution_count": 19,
      "metadata": {
        "id": "xk7FBs72ZFXR"
      },
      "outputs": [],
      "source": [
        "def calculate_mean(numbers):\n",
        "  try:\n",
        "    no_of_numbers = len(numbers)\n",
        "    sum_of_numbers = sum(numbers)\n",
        "    mean = sum_of_numbers/ no_of_numbers\n",
        "    return mean\n",
        "  except Exception as e:\n",
        "    raise e"
      ]
    },
    {
      "cell_type": "code",
      "source": [
        "calculate_mean([10, 15, 20, 25, 30])"
      ],
      "metadata": {
        "colab": {
          "base_uri": "https://localhost:8080/"
        },
        "id": "onCvIU3DfaUp",
        "outputId": "18160383-f6af-4d70-cb6e-156fd739e794"
      },
      "execution_count": 21,
      "outputs": [
        {
          "output_type": "execute_result",
          "data": {
            "text/plain": [
              "20.0"
            ]
          },
          "metadata": {},
          "execution_count": 21
        }
      ]
    },
    {
      "cell_type": "code",
      "source": [],
      "metadata": {
        "id": "WMv2O9LMfdYe"
      },
      "execution_count": null,
      "outputs": []
    }
  ]
}