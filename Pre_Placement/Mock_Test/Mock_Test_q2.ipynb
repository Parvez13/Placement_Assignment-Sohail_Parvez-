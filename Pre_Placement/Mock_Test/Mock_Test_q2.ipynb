{
  "nbformat": 4,
  "nbformat_minor": 0,
  "metadata": {
    "colab": {
      "provenance": []
    },
    "kernelspec": {
      "name": "python3",
      "display_name": "Python 3"
    },
    "language_info": {
      "name": "python"
    }
  },
  "cells": [
    {
      "cell_type": "markdown",
      "source": [
        "### 18. Implement a decorator function called ‘timer’ that measures the execution time of a function. The ‘timer’ decorator should print the time taken by the decorated function to execute. Use the ‘time’ module in Python to calculate the execution time."
      ],
      "metadata": {
        "id": "hxgfIdHcaRr7"
      }
    },
    {
      "cell_type": "code",
      "execution_count": 18,
      "metadata": {
        "colab": {
          "base_uri": "https://localhost:8080/"
        },
        "id": "xk7FBs72ZFXR",
        "outputId": "6e67eedb-dbd9-488b-9720-29d05552d0b8"
      },
      "outputs": [
        {
          "output_type": "stream",
          "name": "stdout",
          "text": [
            "Execution time: 2.0032 seconds\n"
          ]
        }
      ],
      "source": [
        "import time\n",
        "from functools import wraps\n",
        "\n",
        "def timer(func):\n",
        "  @wraps(func)\n",
        "  def timer_wrapper(*args,**kwargs):\n",
        "    start_time = time.time()\n",
        "    result = func(*args, **kwargs)\n",
        "    end_time = time.time()\n",
        "    total_time = end_time - start_time\n",
        "    print(f\"Execution time: {total_time:.4f} seconds\")\n",
        "    return result\n",
        "  return timer_wrapper\n",
        "\n",
        "@timer\n",
        "def my_function():\n",
        "    # Function code goes here\n",
        "    time.sleep(2)\n",
        "\n",
        "my_function()"
      ]
    }
  ]
}