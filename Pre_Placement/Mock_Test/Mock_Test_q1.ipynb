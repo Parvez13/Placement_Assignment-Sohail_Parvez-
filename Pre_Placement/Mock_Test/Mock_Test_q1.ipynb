{
  "nbformat": 4,
  "nbformat_minor": 0,
  "metadata": {
    "colab": {
      "provenance": []
    },
    "kernelspec": {
      "name": "python3",
      "display_name": "Python 3"
    },
    "language_info": {
      "name": "python"
    }
  },
  "cells": [
    {
      "cell_type": "markdown",
      "source": [
        "### Write a function that takes a list of numbers as input and returns a new list containing only the even numbers from the input list. Use list comprehension to solve this problem.\n",
        "\n",
        "### Example:\n",
        "\n",
        "Input: [1, 2, 3, 4, 5, 6, 7, 8, 9, 10]\n",
        "\n",
        "Output: [2, 4, 6, 8, 10]"
      ],
      "metadata": {
        "id": "Huc7PpaSZPV3"
      }
    },
    {
      "cell_type": "code",
      "source": [
        "def even_elements(my_list):\n",
        "  try:\n",
        "    return [x for x in my_list if x%2==0]\n",
        "  except Exception as e:\n",
        "    raise e\n",
        "\n",
        "even_elements([1,2, 3, 4, 5, 6, 7, 8, 9, 10])"
      ],
      "metadata": {
        "colab": {
          "base_uri": "https://localhost:8080/"
        },
        "id": "tK1uto2dZO4v",
        "outputId": "b2218800-2ca1-46e5-ce4e-cb09f06f44d4"
      },
      "execution_count": 1,
      "outputs": [
        {
          "output_type": "execute_result",
          "data": {
            "text/plain": [
              "[2, 4, 6, 8, 10]"
            ]
          },
          "metadata": {},
          "execution_count": 1
        }
      ]
    },
    {
      "cell_type": "code",
      "execution_count": null,
      "metadata": {
        "id": "xk7FBs72ZFXR"
      },
      "outputs": [],
      "source": []
    }
  ]
}