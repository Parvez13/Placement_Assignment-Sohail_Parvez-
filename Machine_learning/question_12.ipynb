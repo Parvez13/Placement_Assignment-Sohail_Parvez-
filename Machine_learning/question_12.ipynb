{
 "cells": [
  {
   "cell_type": "code",
   "execution_count": 119,
   "metadata": {},
   "outputs": [],
   "source": [
    "from pyspark.sql import SparkSession\n",
    "from pyspark.sql.functions import col, count, when\n",
    "from pyspark.ml.feature import StringIndexer\n",
    "from pyspark.ml.feature import VectorAssembler\n",
    "from pyspark.ml.classification import LogisticRegression \n",
    "from pyspark.ml.evaluation import BinaryClassificationEvaluator"
   ]
  },
  {
   "cell_type": "code",
   "execution_count": 84,
   "metadata": {},
   "outputs": [
    {
     "data": {
      "text/html": [
       "\n",
       "            <div>\n",
       "                <p><b>SparkSession - in-memory</b></p>\n",
       "                \n",
       "        <div>\n",
       "            <p><b>SparkContext</b></p>\n",
       "\n",
       "            <p><a href=\"http://ac94d5c438dc:4040\">Spark UI</a></p>\n",
       "\n",
       "            <dl>\n",
       "              <dt>Version</dt>\n",
       "                <dd><code>v3.2.1</code></dd>\n",
       "              <dt>Master</dt>\n",
       "                <dd><code>local[*]</code></dd>\n",
       "              <dt>AppName</dt>\n",
       "                <dd><code>Project</code></dd>\n",
       "            </dl>\n",
       "        </div>\n",
       "        \n",
       "            </div>\n",
       "        "
      ],
      "text/plain": [
       "<pyspark.sql.session.SparkSession at 0x7efe328dd7f0>"
      ]
     },
     "execution_count": 84,
     "metadata": {},
     "output_type": "execute_result"
    }
   ],
   "source": [
    "# Start Sparksession\n",
    "spark = SparkSession.builder.appName('Project').getOrCreate()\n",
    "spark"
   ]
  },
  {
   "cell_type": "code",
   "execution_count": 85,
   "metadata": {},
   "outputs": [],
   "source": [
    "# Read the dataset\n",
    "df = spark.read.option('header','true').csv('indian_liver_patient.csv',inferSchema=True)\n"
   ]
  },
  {
   "cell_type": "code",
   "execution_count": 86,
   "metadata": {},
   "outputs": [
    {
     "name": "stdout",
     "output_type": "stream",
     "text": [
      "root\n",
      " |-- Age: integer (nullable = true)\n",
      " |-- Gender: string (nullable = true)\n",
      " |-- Total_Bilirubin: double (nullable = true)\n",
      " |-- Direct_Bilirubin: double (nullable = true)\n",
      " |-- Alkaline_Phosphotase: integer (nullable = true)\n",
      " |-- Alamine_Aminotransferase: integer (nullable = true)\n",
      " |-- Aspartate_Aminotransferase: integer (nullable = true)\n",
      " |-- Total_Protiens: double (nullable = true)\n",
      " |-- Albumin: double (nullable = true)\n",
      " |-- Albumin_and_Globulin_Ratio: double (nullable = true)\n",
      " |-- Dataset: integer (nullable = true)\n",
      "\n"
     ]
    }
   ],
   "source": [
    "# Check the schema\n",
    "df.printSchema()"
   ]
  },
  {
   "cell_type": "code",
   "execution_count": 87,
   "metadata": {},
   "outputs": [
    {
     "name": "stdout",
     "output_type": "stream",
     "text": [
      "+---+------+---------------+----------------+--------------------+------------------------+--------------------------+--------------+-------+--------------------------+-------+\n",
      "|Age|Gender|Total_Bilirubin|Direct_Bilirubin|Alkaline_Phosphotase|Alamine_Aminotransferase|Aspartate_Aminotransferase|Total_Protiens|Albumin|Albumin_and_Globulin_Ratio|Dataset|\n",
      "+---+------+---------------+----------------+--------------------+------------------------+--------------------------+--------------+-------+--------------------------+-------+\n",
      "| 65|Female|            0.7|             0.1|                 187|                      16|                        18|           6.8|    3.3|                       0.9|      1|\n",
      "| 62|  Male|           10.9|             5.5|                 699|                      64|                       100|           7.5|    3.2|                      0.74|      1|\n",
      "| 62|  Male|            7.3|             4.1|                 490|                      60|                        68|           7.0|    3.3|                      0.89|      1|\n",
      "| 58|  Male|            1.0|             0.4|                 182|                      14|                        20|           6.8|    3.4|                       1.0|      1|\n",
      "| 72|  Male|            3.9|             2.0|                 195|                      27|                        59|           7.3|    2.4|                       0.4|      1|\n",
      "+---+------+---------------+----------------+--------------------+------------------------+--------------------------+--------------+-------+--------------------------+-------+\n",
      "only showing top 5 rows\n",
      "\n"
     ]
    }
   ],
   "source": [
    "# Show first 5 rows\n",
    "df.show(5)"
   ]
  },
  {
   "cell_type": "code",
   "execution_count": 88,
   "metadata": {},
   "outputs": [
    {
     "name": "stdout",
     "output_type": "stream",
     "text": [
      "+-------+------------------+------+-----------------+------------------+--------------------+------------------------+--------------------------+------------------+-----------------+--------------------------+------------------+\n",
      "|summary|               Age|Gender|  Total_Bilirubin|  Direct_Bilirubin|Alkaline_Phosphotase|Alamine_Aminotransferase|Aspartate_Aminotransferase|    Total_Protiens|          Albumin|Albumin_and_Globulin_Ratio|           Dataset|\n",
      "+-------+------------------+------+-----------------+------------------+--------------------+------------------------+--------------------------+------------------+-----------------+--------------------------+------------------+\n",
      "|  count|               583|   583|              583|               583|                 583|                     583|                       583|               583|              583|                       579|               583|\n",
      "|   mean| 44.74614065180103|  null|3.298799313893652|1.4861063464837074|  290.57632933104634|       80.71355060034305|        109.91080617495712| 6.483190394511151| 3.14185248713551|        0.9470639032815201|1.2864493996569468|\n",
      "| stddev|16.189833304694375|  null|6.209521726180151| 2.808497617658965|  242.93798917934402|       182.6203560342026|         288.9185290517341|1.0854514840234648|0.795518805964026|       0.31959210767237056|0.4524901515081166|\n",
      "+-------+------------------+------+-----------------+------------------+--------------------+------------------------+--------------------------+------------------+-----------------+--------------------------+------------------+\n",
      "only showing top 3 rows\n",
      "\n"
     ]
    }
   ],
   "source": [
    "# Describe\n",
    "df.describe().show(3)"
   ]
  },
  {
   "cell_type": "code",
   "execution_count": 89,
   "metadata": {},
   "outputs": [
    {
     "data": {
      "text/plain": [
       "['Age',\n",
       " 'Gender',\n",
       " 'Total_Bilirubin',\n",
       " 'Direct_Bilirubin',\n",
       " 'Alkaline_Phosphotase',\n",
       " 'Alamine_Aminotransferase',\n",
       " 'Aspartate_Aminotransferase',\n",
       " 'Total_Protiens',\n",
       " 'Albumin',\n",
       " 'Albumin_and_Globulin_Ratio',\n",
       " 'Dataset']"
      ]
     },
     "execution_count": 89,
     "metadata": {},
     "output_type": "execute_result"
    }
   ],
   "source": [
    "df.columns"
   ]
  },
  {
   "cell_type": "code",
   "execution_count": 90,
   "metadata": {},
   "outputs": [],
   "source": [
    "# Categorical_columns\n",
    "categorical_columns = []\n",
    "# Numerical Columns\n",
    "numerical_columns = []\n",
    "\n",
    "for column in df.schema:\n",
    "    if str(column.dataType) == 'StringType':\n",
    "        categorical_columns.append(column.name)\n",
    "    else:\n",
    "        numerical_columns.append(column.name)"
   ]
  },
  {
   "cell_type": "code",
   "execution_count": 91,
   "metadata": {},
   "outputs": [
    {
     "name": "stdout",
     "output_type": "stream",
     "text": [
      "['Gender']\n"
     ]
    }
   ],
   "source": [
    "print(categorical_columns)"
   ]
  },
  {
   "cell_type": "code",
   "execution_count": 92,
   "metadata": {},
   "outputs": [
    {
     "name": "stdout",
     "output_type": "stream",
     "text": [
      "['Age', 'Total_Bilirubin', 'Direct_Bilirubin', 'Alkaline_Phosphotase', 'Alamine_Aminotransferase', 'Aspartate_Aminotransferase', 'Total_Protiens', 'Albumin', 'Albumin_and_Globulin_Ratio', 'Dataset']\n"
     ]
    }
   ],
   "source": [
    "print(numerical_columns)"
   ]
  },
  {
   "cell_type": "code",
   "execution_count": 93,
   "metadata": {},
   "outputs": [
    {
     "name": "stdout",
     "output_type": "stream",
     "text": [
      "+---+------+---------------+----------------+--------------------+------------------------+--------------------------+--------------+-------+--------------------------+-------+\n",
      "|Age|Gender|Total_Bilirubin|Direct_Bilirubin|Alkaline_Phosphotase|Alamine_Aminotransferase|Aspartate_Aminotransferase|Total_Protiens|Albumin|Albumin_and_Globulin_Ratio|Dataset|\n",
      "+---+------+---------------+----------------+--------------------+------------------------+--------------------------+--------------+-------+--------------------------+-------+\n",
      "|  0|     0|              0|               0|                   0|                       0|                         0|             0|      0|                         4|      0|\n",
      "+---+------+---------------+----------------+--------------------+------------------------+--------------------------+--------------+-------+--------------------------+-------+\n",
      "\n"
     ]
    }
   ],
   "source": [
    "# Count the number of null values in each column\n",
    "null_counts = df.select([count(when(col(c).isNull(), c)).alias(c) for c in df.columns])\n",
    "\n",
    "# Display the null counts\n",
    "null_counts.show()"
   ]
  },
  {
   "cell_type": "code",
   "execution_count": 104,
   "metadata": {},
   "outputs": [
    {
     "name": "stdout",
     "output_type": "stream",
     "text": [
      "+---+------+---------------+----------------+--------------------+------------------------+--------------------------+--------------+-------+--------------------------+-------+\n",
      "|Age|Gender|Total_Bilirubin|Direct_Bilirubin|Alkaline_Phosphotase|Alamine_Aminotransferase|Aspartate_Aminotransferase|Total_Protiens|Albumin|Albumin_and_Globulin_Ratio|Dataset|\n",
      "+---+------+---------------+----------------+--------------------+------------------------+--------------------------+--------------+-------+--------------------------+-------+\n",
      "| 65|Female|            0.7|             0.1|                 187|                      16|                        18|           6.8|    3.3|                       0.9|      1|\n",
      "| 62|  Male|           10.9|             5.5|                 699|                      64|                       100|           7.5|    3.2|                      0.74|      1|\n",
      "| 62|  Male|            7.3|             4.1|                 490|                      60|                        68|           7.0|    3.3|                      0.89|      1|\n",
      "| 58|  Male|            1.0|             0.4|                 182|                      14|                        20|           6.8|    3.4|                       1.0|      1|\n",
      "| 72|  Male|            3.9|             2.0|                 195|                      27|                        59|           7.3|    2.4|                       0.4|      1|\n",
      "| 46|  Male|            1.8|             0.7|                 208|                      19|                        14|           7.6|    4.4|                       1.3|      1|\n",
      "| 26|Female|            0.9|             0.2|                 154|                      16|                        12|           7.0|    3.5|                       1.0|      1|\n",
      "| 29|Female|            0.9|             0.3|                 202|                      14|                        11|           6.7|    3.6|                       1.1|      1|\n",
      "| 17|  Male|            0.9|             0.3|                 202|                      22|                        19|           7.4|    4.1|                       1.2|      2|\n",
      "| 55|  Male|            0.7|             0.2|                 290|                      53|                        58|           6.8|    3.4|                       1.0|      1|\n",
      "| 57|  Male|            0.6|             0.1|                 210|                      51|                        59|           5.9|    2.7|                       0.8|      1|\n",
      "| 72|  Male|            2.7|             1.3|                 260|                      31|                        56|           7.4|    3.0|                       0.6|      1|\n",
      "| 64|  Male|            0.9|             0.3|                 310|                      61|                        58|           7.0|    3.4|                       0.9|      2|\n",
      "| 74|Female|            1.1|             0.4|                 214|                      22|                        30|           8.1|    4.1|                       1.0|      1|\n",
      "| 61|  Male|            0.7|             0.2|                 145|                      53|                        41|           5.8|    2.7|                      0.87|      1|\n",
      "| 25|  Male|            0.6|             0.1|                 183|                      91|                        53|           5.5|    2.3|                       0.7|      2|\n",
      "| 38|  Male|            1.8|             0.8|                 342|                     168|                       441|           7.6|    4.4|                       1.3|      1|\n",
      "| 33|  Male|            1.6|             0.5|                 165|                      15|                        23|           7.3|    3.5|                      0.92|      2|\n",
      "| 40|Female|            0.9|             0.3|                 293|                     232|                       245|           6.8|    3.1|                       0.8|      1|\n",
      "| 40|Female|            0.9|             0.3|                 293|                     232|                       245|           6.8|    3.1|                       0.8|      1|\n",
      "+---+------+---------------+----------------+--------------------+------------------------+--------------------------+--------------+-------+--------------------------+-------+\n",
      "only showing top 20 rows\n",
      "\n"
     ]
    }
   ],
   "source": [
    "df.na.fill(0.0,'Albumin_and_Globulin_Ratio').show()"
   ]
  },
  {
   "cell_type": "code",
   "execution_count": 113,
   "metadata": {},
   "outputs": [],
   "source": [
    "# Categorical encoding\n",
    "indexer = StringIndexer(inputCol='Gender',outputCol='Gender_encoded')\n",
    "indexed_df = indexer.fit(df).transform(df)\n"
   ]
  },
  {
   "cell_type": "code",
   "execution_count": 115,
   "metadata": {},
   "outputs": [],
   "source": [
    "# VectorAssembler\n",
    "featureassembler = VectorAssembler(inputCols=['Age','Total_Bilirubin','Direct_Bilirubin','Alkaline_Phosphotase','Alamine_Aminotransferase',\n",
    "'Aspartate_Aminotransferase','Total_Protiens','Albumin_and_Globulin_Ratio','Indexed_column'],outputCol='Independent Fatures')"
   ]
  },
  {
   "cell_type": "code",
   "execution_count": 116,
   "metadata": {},
   "outputs": [
    {
     "name": "stdout",
     "output_type": "stream",
     "text": [
      "+---+------+---------------+----------------+--------------------+------------------------+--------------------------+--------------+-------+--------------------------+-------+--------------+--------------------+\n",
      "|Age|Gender|Total_Bilirubin|Direct_Bilirubin|Alkaline_Phosphotase|Alamine_Aminotransferase|Aspartate_Aminotransferase|Total_Protiens|Albumin|Albumin_and_Globulin_Ratio|Dataset|Indexed_column| Independent Fatures|\n",
      "+---+------+---------------+----------------+--------------------+------------------------+--------------------------+--------------+-------+--------------------------+-------+--------------+--------------------+\n",
      "| 65|Female|            0.7|             0.1|                 187|                      16|                        18|           6.8|    3.3|                       0.9|      1|           1.0|[65.0,0.7,0.1,187...|\n",
      "| 62|  Male|           10.9|             5.5|                 699|                      64|                       100|           7.5|    3.2|                      0.74|      1|           0.0|[62.0,10.9,5.5,69...|\n",
      "| 62|  Male|            7.3|             4.1|                 490|                      60|                        68|           7.0|    3.3|                      0.89|      1|           0.0|[62.0,7.3,4.1,490...|\n",
      "| 58|  Male|            1.0|             0.4|                 182|                      14|                        20|           6.8|    3.4|                       1.0|      1|           0.0|[58.0,1.0,0.4,182...|\n",
      "| 72|  Male|            3.9|             2.0|                 195|                      27|                        59|           7.3|    2.4|                       0.4|      1|           0.0|[72.0,3.9,2.0,195...|\n",
      "| 46|  Male|            1.8|             0.7|                 208|                      19|                        14|           7.6|    4.4|                       1.3|      1|           0.0|[46.0,1.8,0.7,208...|\n",
      "| 26|Female|            0.9|             0.2|                 154|                      16|                        12|           7.0|    3.5|                       1.0|      1|           1.0|[26.0,0.9,0.2,154...|\n",
      "| 29|Female|            0.9|             0.3|                 202|                      14|                        11|           6.7|    3.6|                       1.1|      1|           1.0|[29.0,0.9,0.3,202...|\n",
      "| 17|  Male|            0.9|             0.3|                 202|                      22|                        19|           7.4|    4.1|                       1.2|      2|           0.0|[17.0,0.9,0.3,202...|\n",
      "| 55|  Male|            0.7|             0.2|                 290|                      53|                        58|           6.8|    3.4|                       1.0|      1|           0.0|[55.0,0.7,0.2,290...|\n",
      "| 57|  Male|            0.6|             0.1|                 210|                      51|                        59|           5.9|    2.7|                       0.8|      1|           0.0|[57.0,0.6,0.1,210...|\n",
      "| 72|  Male|            2.7|             1.3|                 260|                      31|                        56|           7.4|    3.0|                       0.6|      1|           0.0|[72.0,2.7,1.3,260...|\n",
      "| 64|  Male|            0.9|             0.3|                 310|                      61|                        58|           7.0|    3.4|                       0.9|      2|           0.0|[64.0,0.9,0.3,310...|\n",
      "| 74|Female|            1.1|             0.4|                 214|                      22|                        30|           8.1|    4.1|                       1.0|      1|           1.0|[74.0,1.1,0.4,214...|\n",
      "| 61|  Male|            0.7|             0.2|                 145|                      53|                        41|           5.8|    2.7|                      0.87|      1|           0.0|[61.0,0.7,0.2,145...|\n",
      "| 25|  Male|            0.6|             0.1|                 183|                      91|                        53|           5.5|    2.3|                       0.7|      2|           0.0|[25.0,0.6,0.1,183...|\n",
      "| 38|  Male|            1.8|             0.8|                 342|                     168|                       441|           7.6|    4.4|                       1.3|      1|           0.0|[38.0,1.8,0.8,342...|\n",
      "| 33|  Male|            1.6|             0.5|                 165|                      15|                        23|           7.3|    3.5|                      0.92|      2|           0.0|[33.0,1.6,0.5,165...|\n",
      "| 40|Female|            0.9|             0.3|                 293|                     232|                       245|           6.8|    3.1|                       0.8|      1|           1.0|[40.0,0.9,0.3,293...|\n",
      "| 40|Female|            0.9|             0.3|                 293|                     232|                       245|           6.8|    3.1|                       0.8|      1|           1.0|[40.0,0.9,0.3,293...|\n",
      "+---+------+---------------+----------------+--------------------+------------------------+--------------------------+--------------+-------+--------------------------+-------+--------------+--------------------+\n",
      "only showing top 20 rows\n",
      "\n"
     ]
    }
   ],
   "source": [
    "# Output df\n",
    "output = featureassembler.transform(indexed_df)\n",
    "output.show()"
   ]
  },
  {
   "cell_type": "code",
   "execution_count": 117,
   "metadata": {},
   "outputs": [
    {
     "data": {
      "text/plain": [
       "['Age',\n",
       " 'Gender',\n",
       " 'Total_Bilirubin',\n",
       " 'Direct_Bilirubin',\n",
       " 'Alkaline_Phosphotase',\n",
       " 'Alamine_Aminotransferase',\n",
       " 'Aspartate_Aminotransferase',\n",
       " 'Total_Protiens',\n",
       " 'Albumin',\n",
       " 'Albumin_and_Globulin_Ratio',\n",
       " 'Dataset',\n",
       " 'Indexed_column',\n",
       " 'Independent Fatures']"
      ]
     },
     "execution_count": 117,
     "metadata": {},
     "output_type": "execute_result"
    }
   ],
   "source": [
    "output.columns"
   ]
  },
  {
   "cell_type": "code",
   "execution_count": 118,
   "metadata": {},
   "outputs": [
    {
     "name": "stdout",
     "output_type": "stream",
     "text": [
      "+--------------------+-------+\n",
      "| Independent Fatures|Dataset|\n",
      "+--------------------+-------+\n",
      "|[65.0,0.7,0.1,187...|      1|\n",
      "|[62.0,10.9,5.5,69...|      1|\n",
      "|[62.0,7.3,4.1,490...|      1|\n",
      "|[58.0,1.0,0.4,182...|      1|\n",
      "|[72.0,3.9,2.0,195...|      1|\n",
      "|[46.0,1.8,0.7,208...|      1|\n",
      "|[26.0,0.9,0.2,154...|      1|\n",
      "|[29.0,0.9,0.3,202...|      1|\n",
      "|[17.0,0.9,0.3,202...|      2|\n",
      "|[55.0,0.7,0.2,290...|      1|\n",
      "|[57.0,0.6,0.1,210...|      1|\n",
      "|[72.0,2.7,1.3,260...|      1|\n",
      "|[64.0,0.9,0.3,310...|      2|\n",
      "|[74.0,1.1,0.4,214...|      1|\n",
      "|[61.0,0.7,0.2,145...|      1|\n",
      "|[25.0,0.6,0.1,183...|      2|\n",
      "|[38.0,1.8,0.8,342...|      1|\n",
      "|[33.0,1.6,0.5,165...|      2|\n",
      "|[40.0,0.9,0.3,293...|      1|\n",
      "|[40.0,0.9,0.3,293...|      1|\n",
      "+--------------------+-------+\n",
      "only showing top 20 rows\n",
      "\n"
     ]
    }
   ],
   "source": [
    "# Finalized data\n",
    "finalized_data = output.select('Independent Fatures','Dataset')\n",
    "finalized_data.show()"
   ]
  },
  {
   "cell_type": "code",
   "execution_count": 120,
   "metadata": {},
   "outputs": [],
   "source": [
    "# Split Train and Test\n",
    "train_data, test_data = finalized_data.randomSplit([0.8,0.2],seed=42)\n"
   ]
  },
  {
   "cell_type": "code",
   "execution_count": 124,
   "metadata": {},
   "outputs": [],
   "source": [
    "# Model\n",
    "model = LogisticRegression()\n",
    "# Initialized dataset to the model\n",
    "model.fit(train_data)\n"
   ]
  },
  {
   "cell_type": "code",
   "execution_count": null,
   "metadata": {},
   "outputs": [],
   "source": [
    "# Predictions\n",
    "predictions = model.transform(test_data)\n",
    "Evaluator = BinaryClassificationEvaluator()\n",
    "accuracy = evaluator.evaluate(predictions)"
   ]
  }
 ],
 "metadata": {
  "kernelspec": {
   "display_name": "Python 3.8.10 64-bit",
   "language": "python",
   "name": "python3"
  },
  "language_info": {
   "codemirror_mode": {
    "name": "ipython",
    "version": 3
   },
   "file_extension": ".py",
   "mimetype": "text/x-python",
   "name": "python",
   "nbconvert_exporter": "python",
   "pygments_lexer": "ipython3",
   "version": "3.8.10"
  },
  "orig_nbformat": 4,
  "vscode": {
   "interpreter": {
    "hash": "e7370f93d1d0cde622a1f8e1c04877d8463912d04d973331ad4851f04de6915a"
   }
  }
 },
 "nbformat": 4,
 "nbformat_minor": 2
}
