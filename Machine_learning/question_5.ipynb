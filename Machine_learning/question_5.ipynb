{
  "cells": [
    {
      "cell_type": "code",
      "execution_count": 62,
      "id": "31df441d-91af-49fb-8ebc-5888d71907bd",
      "metadata": {
        "id": "31df441d-91af-49fb-8ebc-5888d71907bd"
      },
      "outputs": [],
      "source": [
        "import pandas as pd\n",
        "import numpy as np\n",
        "import matplotlib.pyplot as plt\n",
        "%matplotlib inline\n",
        "import seaborn as sns\n",
        "from sklearn.model_selection import train_test_split\n",
        "from sklearn.preprocessing import LabelEncoder\n",
        "from sklearn.metrics import mean_absolute_error,mean_squared_error,r2_score\n",
        "from sklearn.tree import DecisionTreeRegressor\n",
        "from sklearn.neighbors import KNeighborsRegressor\n",
        "from sklearn.linear_model import LinearRegression\n",
        "from sklearn.ensemble import RandomForestRegressor\n",
        "from sklearn.svm import SVR"
      ]
    },
    {
      "cell_type": "markdown",
      "source": [
        "### Dataset"
      ],
      "metadata": {
        "id": "1NwkIGsEZulq"
      },
      "id": "1NwkIGsEZulq"
    },
    {
      "cell_type": "code",
      "execution_count": 50,
      "id": "0b7484bb-6a58-4700-91f0-f332d9f2e43a",
      "metadata": {
        "colab": {
          "base_uri": "https://localhost:8080/",
          "height": 632
        },
        "id": "0b7484bb-6a58-4700-91f0-f332d9f2e43a",
        "outputId": "fa3c0bcb-a12a-4957-ea30-019ac73cc631"
      },
      "outputs": [
        {
          "output_type": "execute_result",
          "data": {
            "text/plain": [
              "   City Product Type Trip or Order Status                   Request Time  \\\n",
              "0   458        Black            COMPLETED  2021-01-13 22:06:46 +0000 UTC   \n",
              "1   458          VIP            COMPLETED  2021-01-13 20:21:05 +0000 UTC   \n",
              "2   458          VIP            COMPLETED  2021-01-03 00:23:22 +0000 UTC   \n",
              "3   458          VIP            COMPLETED  2020-12-11 23:16:33 +0000 UTC   \n",
              "4   458          VIP            COMPLETED  2020-12-11 00:35:46 +0000 UTC   \n",
              "\n",
              "                 Begin Trip Time  Begin Trip Lat  Begin Trip Lng  \\\n",
              "0  2021-01-13 22:11:10 +0000 UTC      -23.599752      -46.715954   \n",
              "1  2021-01-13 20:27:29 +0000 UTC      -23.559298      -46.666454   \n",
              "2  2021-01-03 00:33:00 +0000 UTC      -23.626593      -46.659410   \n",
              "3  2020-12-11 23:27:32 +0000 UTC      -23.559410      -46.666435   \n",
              "4  2020-12-11 00:46:46 +0000 UTC      -23.584846      -46.663590   \n",
              "\n",
              "                    Dropoff Time  Dropoff Lat  Dropoff Lng  Distance (miles)  \\\n",
              "0  2021-01-13 22:29:13 +0000 UTC   -23.559359   -46.666542              4.84   \n",
              "1  2021-01-13 20:54:50 +0000 UTC   -23.599585   -46.715717              5.31   \n",
              "2  2021-01-03 00:50:56 +0000 UTC   -23.559273   -46.666595              5.90   \n",
              "3  2020-12-12 00:32:47 +0000 UTC   -23.425755   -46.481190             19.74   \n",
              "4  2020-12-11 00:57:57 +0000 UTC   -23.559261   -46.666510              2.54   \n",
              "\n",
              "   Fare Amount Fare Currency  \n",
              "0        29.63           BRL  \n",
              "1        20.86           BRL  \n",
              "2        34.23           BRL  \n",
              "3        58.77           BRL  \n",
              "4        12.63           BRL  "
            ],
            "text/html": [
              "\n",
              "  <div id=\"df-5624e2d2-7352-4d77-83df-071b41cbed43\">\n",
              "    <div class=\"colab-df-container\">\n",
              "      <div>\n",
              "<style scoped>\n",
              "    .dataframe tbody tr th:only-of-type {\n",
              "        vertical-align: middle;\n",
              "    }\n",
              "\n",
              "    .dataframe tbody tr th {\n",
              "        vertical-align: top;\n",
              "    }\n",
              "\n",
              "    .dataframe thead th {\n",
              "        text-align: right;\n",
              "    }\n",
              "</style>\n",
              "<table border=\"1\" class=\"dataframe\">\n",
              "  <thead>\n",
              "    <tr style=\"text-align: right;\">\n",
              "      <th></th>\n",
              "      <th>City</th>\n",
              "      <th>Product Type</th>\n",
              "      <th>Trip or Order Status</th>\n",
              "      <th>Request Time</th>\n",
              "      <th>Begin Trip Time</th>\n",
              "      <th>Begin Trip Lat</th>\n",
              "      <th>Begin Trip Lng</th>\n",
              "      <th>Dropoff Time</th>\n",
              "      <th>Dropoff Lat</th>\n",
              "      <th>Dropoff Lng</th>\n",
              "      <th>Distance (miles)</th>\n",
              "      <th>Fare Amount</th>\n",
              "      <th>Fare Currency</th>\n",
              "    </tr>\n",
              "  </thead>\n",
              "  <tbody>\n",
              "    <tr>\n",
              "      <th>0</th>\n",
              "      <td>458</td>\n",
              "      <td>Black</td>\n",
              "      <td>COMPLETED</td>\n",
              "      <td>2021-01-13 22:06:46 +0000 UTC</td>\n",
              "      <td>2021-01-13 22:11:10 +0000 UTC</td>\n",
              "      <td>-23.599752</td>\n",
              "      <td>-46.715954</td>\n",
              "      <td>2021-01-13 22:29:13 +0000 UTC</td>\n",
              "      <td>-23.559359</td>\n",
              "      <td>-46.666542</td>\n",
              "      <td>4.84</td>\n",
              "      <td>29.63</td>\n",
              "      <td>BRL</td>\n",
              "    </tr>\n",
              "    <tr>\n",
              "      <th>1</th>\n",
              "      <td>458</td>\n",
              "      <td>VIP</td>\n",
              "      <td>COMPLETED</td>\n",
              "      <td>2021-01-13 20:21:05 +0000 UTC</td>\n",
              "      <td>2021-01-13 20:27:29 +0000 UTC</td>\n",
              "      <td>-23.559298</td>\n",
              "      <td>-46.666454</td>\n",
              "      <td>2021-01-13 20:54:50 +0000 UTC</td>\n",
              "      <td>-23.599585</td>\n",
              "      <td>-46.715717</td>\n",
              "      <td>5.31</td>\n",
              "      <td>20.86</td>\n",
              "      <td>BRL</td>\n",
              "    </tr>\n",
              "    <tr>\n",
              "      <th>2</th>\n",
              "      <td>458</td>\n",
              "      <td>VIP</td>\n",
              "      <td>COMPLETED</td>\n",
              "      <td>2021-01-03 00:23:22 +0000 UTC</td>\n",
              "      <td>2021-01-03 00:33:00 +0000 UTC</td>\n",
              "      <td>-23.626593</td>\n",
              "      <td>-46.659410</td>\n",
              "      <td>2021-01-03 00:50:56 +0000 UTC</td>\n",
              "      <td>-23.559273</td>\n",
              "      <td>-46.666595</td>\n",
              "      <td>5.90</td>\n",
              "      <td>34.23</td>\n",
              "      <td>BRL</td>\n",
              "    </tr>\n",
              "    <tr>\n",
              "      <th>3</th>\n",
              "      <td>458</td>\n",
              "      <td>VIP</td>\n",
              "      <td>COMPLETED</td>\n",
              "      <td>2020-12-11 23:16:33 +0000 UTC</td>\n",
              "      <td>2020-12-11 23:27:32 +0000 UTC</td>\n",
              "      <td>-23.559410</td>\n",
              "      <td>-46.666435</td>\n",
              "      <td>2020-12-12 00:32:47 +0000 UTC</td>\n",
              "      <td>-23.425755</td>\n",
              "      <td>-46.481190</td>\n",
              "      <td>19.74</td>\n",
              "      <td>58.77</td>\n",
              "      <td>BRL</td>\n",
              "    </tr>\n",
              "    <tr>\n",
              "      <th>4</th>\n",
              "      <td>458</td>\n",
              "      <td>VIP</td>\n",
              "      <td>COMPLETED</td>\n",
              "      <td>2020-12-11 00:35:46 +0000 UTC</td>\n",
              "      <td>2020-12-11 00:46:46 +0000 UTC</td>\n",
              "      <td>-23.584846</td>\n",
              "      <td>-46.663590</td>\n",
              "      <td>2020-12-11 00:57:57 +0000 UTC</td>\n",
              "      <td>-23.559261</td>\n",
              "      <td>-46.666510</td>\n",
              "      <td>2.54</td>\n",
              "      <td>12.63</td>\n",
              "      <td>BRL</td>\n",
              "    </tr>\n",
              "  </tbody>\n",
              "</table>\n",
              "</div>\n",
              "      <button class=\"colab-df-convert\" onclick=\"convertToInteractive('df-5624e2d2-7352-4d77-83df-071b41cbed43')\"\n",
              "              title=\"Convert this dataframe to an interactive table.\"\n",
              "              style=\"display:none;\">\n",
              "        \n",
              "  <svg xmlns=\"http://www.w3.org/2000/svg\" height=\"24px\"viewBox=\"0 0 24 24\"\n",
              "       width=\"24px\">\n",
              "    <path d=\"M0 0h24v24H0V0z\" fill=\"none\"/>\n",
              "    <path d=\"M18.56 5.44l.94 2.06.94-2.06 2.06-.94-2.06-.94-.94-2.06-.94 2.06-2.06.94zm-11 1L8.5 8.5l.94-2.06 2.06-.94-2.06-.94L8.5 2.5l-.94 2.06-2.06.94zm10 10l.94 2.06.94-2.06 2.06-.94-2.06-.94-.94-2.06-.94 2.06-2.06.94z\"/><path d=\"M17.41 7.96l-1.37-1.37c-.4-.4-.92-.59-1.43-.59-.52 0-1.04.2-1.43.59L10.3 9.45l-7.72 7.72c-.78.78-.78 2.05 0 2.83L4 21.41c.39.39.9.59 1.41.59.51 0 1.02-.2 1.41-.59l7.78-7.78 2.81-2.81c.8-.78.8-2.07 0-2.86zM5.41 20L4 18.59l7.72-7.72 1.47 1.35L5.41 20z\"/>\n",
              "  </svg>\n",
              "      </button>\n",
              "      \n",
              "  <style>\n",
              "    .colab-df-container {\n",
              "      display:flex;\n",
              "      flex-wrap:wrap;\n",
              "      gap: 12px;\n",
              "    }\n",
              "\n",
              "    .colab-df-convert {\n",
              "      background-color: #E8F0FE;\n",
              "      border: none;\n",
              "      border-radius: 50%;\n",
              "      cursor: pointer;\n",
              "      display: none;\n",
              "      fill: #1967D2;\n",
              "      height: 32px;\n",
              "      padding: 0 0 0 0;\n",
              "      width: 32px;\n",
              "    }\n",
              "\n",
              "    .colab-df-convert:hover {\n",
              "      background-color: #E2EBFA;\n",
              "      box-shadow: 0px 1px 2px rgba(60, 64, 67, 0.3), 0px 1px 3px 1px rgba(60, 64, 67, 0.15);\n",
              "      fill: #174EA6;\n",
              "    }\n",
              "\n",
              "    [theme=dark] .colab-df-convert {\n",
              "      background-color: #3B4455;\n",
              "      fill: #D2E3FC;\n",
              "    }\n",
              "\n",
              "    [theme=dark] .colab-df-convert:hover {\n",
              "      background-color: #434B5C;\n",
              "      box-shadow: 0px 1px 3px 1px rgba(0, 0, 0, 0.15);\n",
              "      filter: drop-shadow(0px 1px 2px rgba(0, 0, 0, 0.3));\n",
              "      fill: #FFFFFF;\n",
              "    }\n",
              "  </style>\n",
              "\n",
              "      <script>\n",
              "        const buttonEl =\n",
              "          document.querySelector('#df-5624e2d2-7352-4d77-83df-071b41cbed43 button.colab-df-convert');\n",
              "        buttonEl.style.display =\n",
              "          google.colab.kernel.accessAllowed ? 'block' : 'none';\n",
              "\n",
              "        async function convertToInteractive(key) {\n",
              "          const element = document.querySelector('#df-5624e2d2-7352-4d77-83df-071b41cbed43');\n",
              "          const dataTable =\n",
              "            await google.colab.kernel.invokeFunction('convertToInteractive',\n",
              "                                                     [key], {});\n",
              "          if (!dataTable) return;\n",
              "\n",
              "          const docLinkHtml = 'Like what you see? Visit the ' +\n",
              "            '<a target=\"_blank\" href=https://colab.research.google.com/notebooks/data_table.ipynb>data table notebook</a>'\n",
              "            + ' to learn more about interactive tables.';\n",
              "          element.innerHTML = '';\n",
              "          dataTable['output_type'] = 'display_data';\n",
              "          await google.colab.output.renderOutput(dataTable, element);\n",
              "          const docLink = document.createElement('div');\n",
              "          docLink.innerHTML = docLinkHtml;\n",
              "          element.appendChild(docLink);\n",
              "        }\n",
              "      </script>\n",
              "    </div>\n",
              "  </div>\n",
              "  "
            ]
          },
          "metadata": {},
          "execution_count": 50
        }
      ],
      "source": [
        "# Dataset\n",
        "rides  = pd.read_csv('trips_data.csv')\n",
        "rides.head()"
      ]
    },
    {
      "cell_type": "code",
      "execution_count": 51,
      "id": "1e27a27e-09ce-4fe5-8f7d-9d7f61d95b4a",
      "metadata": {
        "colab": {
          "base_uri": "https://localhost:8080/"
        },
        "id": "1e27a27e-09ce-4fe5-8f7d-9d7f61d95b4a",
        "outputId": "829ff952-cb01-44b3-d3b8-4f135ec1b809"
      },
      "outputs": [
        {
          "output_type": "stream",
          "name": "stdout",
          "text": [
            "<class 'pandas.core.frame.DataFrame'>\n",
            "RangeIndex: 554 entries, 0 to 553\n",
            "Data columns (total 13 columns):\n",
            " #   Column                Non-Null Count  Dtype  \n",
            "---  ------                --------------  -----  \n",
            " 0   City                  554 non-null    int64  \n",
            " 1   Product Type          551 non-null    object \n",
            " 2   Trip or Order Status  554 non-null    object \n",
            " 3   Request Time          554 non-null    object \n",
            " 4   Begin Trip Time       554 non-null    object \n",
            " 5   Begin Trip Lat        525 non-null    float64\n",
            " 6   Begin Trip Lng        525 non-null    float64\n",
            " 7   Dropoff Time          554 non-null    object \n",
            " 8   Dropoff Lat           525 non-null    float64\n",
            " 9   Dropoff Lng           525 non-null    float64\n",
            " 10  Distance (miles)      554 non-null    float64\n",
            " 11  Fare Amount           554 non-null    float64\n",
            " 12  Fare Currency         551 non-null    object \n",
            "dtypes: float64(6), int64(1), object(6)\n",
            "memory usage: 56.4+ KB\n"
          ]
        }
      ],
      "source": [
        "# Info\n",
        "rides.info()"
      ]
    },
    {
      "cell_type": "code",
      "execution_count": 52,
      "id": "4803a783-3309-4cd7-8021-7cfa7b94ff03",
      "metadata": {
        "colab": {
          "base_uri": "https://localhost:8080/"
        },
        "id": "4803a783-3309-4cd7-8021-7cfa7b94ff03",
        "outputId": "371cff25-b0e7-4a83-c887-30f37f61f3dc"
      },
      "outputs": [
        {
          "output_type": "stream",
          "name": "stdout",
          "text": [
            "UberX                   169\n",
            "uberX                   144\n",
            "uberX VIP                81\n",
            "VIP                      71\n",
            "POOL                     36\n",
            "Pool                     12\n",
            "UberEATS Marketplace     10\n",
            "POOL: MATCHED             8\n",
            "uberPOOL: MATCHED         5\n",
            "uberPOOL                  5\n",
            "Pool: MATCHED             4\n",
            "Black                     3\n",
            "Juntos                    1\n",
            "UberBLACK                 1\n",
            "uberx                     1\n",
            "Name: Product Type, dtype: int64\n",
            "UberX                   466\n",
            "Pool                     70\n",
            "UberEATS Marketplace     10\n",
            "Black                     4\n",
            "Juntos                    1\n",
            "Name: Product Type, dtype: int64\n"
          ]
        }
      ],
      "source": [
        "# Checking categories in product_type column\n",
        "print(rides['Product Type'].value_counts())\n",
        "# Categories reclassification\n",
        "product_mapping = {'UberX':'UberX','uberX':'UberX','uberX VIP':'UberX','VIP':'UberX','POOL':'Pool','POOL: MATCHED':'Pool','UberBLACK': 'Black',\n",
        "                   'uberx':'UberX','uberPOOL':'Pool','uberPOOL: MATCHED':'Pool','Pool: MATCHED':'Pool'}\n",
        "# New categories replacement\n",
        "rides['Product Type'].replace(product_mapping, inplace=True)\n",
        "# Checking new categories in product_type column\n",
        "print(rides['Product Type'].value_counts())"
      ]
    },
    {
      "cell_type": "code",
      "execution_count": 53,
      "id": "2bb626f7-ea41-4d75-9851-d2b7b5ec9c48",
      "metadata": {
        "id": "2bb626f7-ea41-4d75-9851-d2b7b5ec9c48"
      },
      "outputs": [],
      "source": [
        "# Since most of these reviews are only around Uber rides, I have removed the UberEATS records from my database.\n",
        "rides = rides[rides['Product Type']!='UberEATS Marketplace']"
      ]
    },
    {
      "cell_type": "code",
      "execution_count": 54,
      "id": "44cd4651-d67d-44f6-995d-4a7ee6170e51",
      "metadata": {
        "id": "44cd4651-d67d-44f6-995d-4a7ee6170e51"
      },
      "outputs": [],
      "source": [
        "# Library for manipulating dates and times\n",
        "from datetime import datetime\n",
        "from datetime import timedelta\n",
        "# Function to convert features to datetime\n",
        "def date_convertion(df, cols):\n",
        "    for col in cols:\n",
        "        df[col] = df[col].apply(lambda x: x.replace(' +0000 UTC', ''))\n",
        "        df[col] = pd.to_datetime(df[col])\n",
        "    return df\n",
        "# Applying date_convertion function to date features \n",
        "rides = date_convertion(rides, ['Request Time', 'Begin Trip Time', 'Dropoff Time'])"
      ]
    },
    {
      "cell_type": "code",
      "source": [
        "X = rides.drop(['Fare Amount','Fare Currency'],axis=1) # Independent\n",
        "y = rides['Fare Amount'] #Dependent"
      ],
      "metadata": {
        "id": "Ejx4SFkQdsuG"
      },
      "id": "Ejx4SFkQdsuG",
      "execution_count": 56,
      "outputs": []
    },
    {
      "cell_type": "code",
      "source": [
        "# Categorical Encoding\n",
        "le = LabelEncoder()\n",
        "categorical_features = [col for col in X.columns if X[col].dtype == 'O']\n",
        "X[categorical_features] = X[categorical_features].apply(le.fit_transform)"
      ],
      "metadata": {
        "id": "e0aXG8ILfARn"
      },
      "id": "e0aXG8ILfARn",
      "execution_count": 59,
      "outputs": []
    },
    {
      "cell_type": "code",
      "source": [
        "# metrics\n",
        "def evaluate_clf(true, predicted):\n",
        "    '''\n",
        "    This function takes in true values and predicted values\n",
        "    Returns: Accuracy, F1-Score, Precision, Recall, Roc-auc Score\n",
        "    '''\n",
        "    mae = mean_absolute_error(true,predicted)\n",
        "    mse = mean_squared_error(true,predicted)\n",
        "    r2 = r2_score(true,predicted)\n",
        "    return mae,mse,r2"
      ],
      "metadata": {
        "id": "t4VIYsrbfOdm"
      },
      "id": "t4VIYsrbfOdm",
      "execution_count": 63,
      "outputs": []
    },
    {
      "cell_type": "code",
      "source": [
        "# Create a function which can evaluate models and return a report \n",
        "def evaluate_models(X, y, models):\n",
        "    '''\n",
        "    This function takes in X and y and models dictionary as input\n",
        "    It splits the data into Train Test split\n",
        "    Iterates through the given model dictionary and evaluates the metrics\n",
        "    Returns: Dataframe which contains report of all models metrics with cost\n",
        "    '''\n",
        "    # separate dataset into train and test\n",
        "    X_train, X_test, y_train, y_test = train_test_split(X,y,test_size=0.2,random_state=42)\n",
        "    \n",
        "    models_list = []\n",
        "    \n",
        "    for i in range(len(list(models))):\n",
        "        model = list(models.values())[i]\n",
        "        model.fit(X_train, y_train) # Train model\n",
        "\n",
        "        # Make predictions\n",
        "        y_train_pred = model.predict(X_train)\n",
        "        y_test_pred = model.predict(X_test)\n",
        "\n",
        "        # Training set performance\n",
        "        model_train_mae, model_train_mse, model_train_r2=evaluate_clf(y_train ,y_train_pred)\n",
        "\n",
        "\n",
        "        # Test set performance\n",
        "        model_test_mae, model_test_mse, model_test_r2 =evaluate_clf(y_test, y_test_pred)\n",
        "\n",
        "\n",
        "        print(list(models.keys())[i])\n",
        "        models_list.append(list(models.keys())[i])\n",
        "\n",
        "        print('Model performance for Training set')\n",
        "        print('- MAE : {:.4f}'.format(model_train_mae)) \n",
        "        print('- MSE: {:.4f}'.format(model_train_mse))\n",
        "        print('- r2: {:.4f}'.format(model_train_r2))\n",
        "\n",
        "        print('----------------------------------')\n",
        "\n",
        "        print('Model performance for Test set')\n",
        "        print('- MAE : {:.4f}'.format(model_test_mae)) \n",
        "        print('- MSE: {:.4f}'.format(model_test_mse))\n",
        "        print('- r2: {:.4f}'.format(model_test_r2))\n",
        "        print('='*35)\n",
        "        print('\\n')"
      ],
      "metadata": {
        "id": "ciWjB2CbgMpd"
      },
      "id": "ciWjB2CbgMpd",
      "execution_count": 64,
      "outputs": []
    },
    {
      "cell_type": "code",
      "source": [
        "models = {\n",
        "        \"DecisionTreeRegressor\":DecisionTreeRegressor(),\n",
        "        \"KNN\": KNeighborsRegressor(),\n",
        "        \"Linear\":LinearRegression(),\n",
        "        \"RandomForest\":RandomForestRegressor(),\n",
        "        \"SVR\":SVR()\n",
        "}"
      ],
      "metadata": {
        "id": "FtJmIgBcgRJh"
      },
      "id": "FtJmIgBcgRJh",
      "execution_count": 65,
      "outputs": []
    },
    {
      "cell_type": "code",
      "source": [
        "# results = evaluate_models(X,y,models)"
      ],
      "metadata": {
        "id": "JoBmb1-zgVrO"
      },
      "id": "JoBmb1-zgVrO",
      "execution_count": 72,
      "outputs": []
    },
    {
      "cell_type": "code",
      "source": [],
      "metadata": {
        "id": "KKVQfYbyg3GW"
      },
      "id": "KKVQfYbyg3GW",
      "execution_count": null,
      "outputs": []
    }
  ],
  "metadata": {
    "kernelspec": {
      "display_name": "Python 3 (ipykernel)",
      "language": "python",
      "name": "python3"
    },
    "language_info": {
      "codemirror_mode": {
        "name": "ipython",
        "version": 3
      },
      "file_extension": ".py",
      "mimetype": "text/x-python",
      "name": "python",
      "nbconvert_exporter": "python",
      "pygments_lexer": "ipython3",
      "version": "3.10.6"
    },
    "colab": {
      "provenance": []
    }
  },
  "nbformat": 4,
  "nbformat_minor": 5
}