{
 "cells": [
  {
   "cell_type": "code",
   "execution_count": 2,
   "metadata": {},
   "outputs": [
    {
     "name": "stdout",
     "output_type": "stream",
     "text": [
      "Mean Absolute Deviation Before: 5.7118\n",
      "Mean Absolute Deviation After: 5.9\n"
     ]
    }
   ],
   "source": [
    "import pandas as pd\n",
    "import numpy as np\n",
    "\n",
    "df = pd.read_csv('data.csv')\n",
    "\n",
    "# Mean\n",
    "mean_before = df.iloc[:,1].mean()\n",
    "mean_after = df.iloc[:,2].mean()\n",
    "\n",
    "# Absolute difference\n",
    "abs_diff_before = np.abs(df.iloc[:,1] - mean_before)\n",
    "abs_diff_after = np.abs(df.iloc[:,2] - mean_after)\n",
    "\n",
    "# Calculate mean absolute deviation\n",
    "mad_before = np.mean(abs_diff_before)\n",
    "mad_after = np.mean(abs_diff_after)\n",
    "\n",
    "# Print the mean absolute deviation\n",
    "print(\"Mean Absolute Deviation Before:\", mad_before)\n",
    "print(\"Mean Absolute Deviation After:\", mad_after)\n"
   ]
  },
  {
   "cell_type": "code",
   "execution_count": 4,
   "metadata": {},
   "outputs": [
    {
     "name": "stdout",
     "output_type": "stream",
     "text": [
      "Standard Deviation Before Blood Pressure: 6.598278012275076 \n",
      "Standard Deviation After Blood Pressure: 6.888022102523226\n"
     ]
    }
   ],
   "source": [
    "# Standard Deviation\n",
    "before_bp = df.iloc[:,1].std()\n",
    "after_bp = df.iloc[:,2].std()\n",
    "\n",
    "print(f\"Standard Deviation Before Blood Pressure: {before_bp} \")\n",
    "print(f\"Standard Deviation After Blood Pressure: {after_bp}\")"
   ]
  },
  {
   "cell_type": "code",
   "execution_count": null,
   "metadata": {},
   "outputs": [],
   "source": []
  }
 ],
 "metadata": {
  "kernelspec": {
   "display_name": "python_placement",
   "language": "python",
   "name": "python3"
  },
  "language_info": {
   "codemirror_mode": {
    "name": "ipython",
    "version": 3
   },
   "file_extension": ".py",
   "mimetype": "text/x-python",
   "name": "python",
   "nbconvert_exporter": "python",
   "pygments_lexer": "ipython3",
   "version": "3.8.0"
  },
  "orig_nbformat": 4
 },
 "nbformat": 4,
 "nbformat_minor": 2
}
