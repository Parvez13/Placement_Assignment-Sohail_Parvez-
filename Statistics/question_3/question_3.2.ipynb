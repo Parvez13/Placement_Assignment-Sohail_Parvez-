{
 "cells": [
  {
   "cell_type": "code",
   "execution_count": 1,
   "metadata": {},
   "outputs": [],
   "source": [
    "import pandas as pd\n",
    "import numpy as np\n",
    "from scipy.stats import norm\n",
    "import matplotlib.pyplot as plt"
   ]
  },
  {
   "cell_type": "code",
   "execution_count": 18,
   "metadata": {},
   "outputs": [],
   "source": [
    "df = pd.read_csv('data.csv')"
   ]
  },
  {
   "cell_type": "code",
   "execution_count": 3,
   "metadata": {},
   "outputs": [
    {
     "name": "stdout",
     "output_type": "stream",
     "text": [
      "The mean is of Blood Pressure Before:  133.91\n",
      "The mean is of Blood Pressure After:  128.36\n"
     ]
    }
   ],
   "source": [
    "# Calculate the mean\n",
    "mean_before = df.iloc[:,1].mean()\n",
    "mean_after = df.iloc[:,2].mean()\n",
    "\n",
    "print('The mean is of Blood Pressure Before: ',mean_before)\n",
    "print('The mean is of Blood Pressure After: ',mean_after)"
   ]
  },
  {
   "attachments": {},
   "cell_type": "markdown",
   "metadata": {},
   "source": [
    "### Calculate the confidence interval for 'Blood Pressure Before' "
   ]
  },
  {
   "cell_type": "code",
   "execution_count": 12,
   "metadata": {},
   "outputs": [],
   "source": [
    "# Sample data\n",
    "sample_before = df.iloc[:,1].values\n"
   ]
  },
  {
   "cell_type": "code",
   "execution_count": 16,
   "metadata": {},
   "outputs": [
    {
     "name": "stdout",
     "output_type": "stream",
     "text": [
      "Confidence Interval: [132.61, 135.21]\n"
     ]
    }
   ],
   "source": [
    "import numpy as np\n",
    "from scipy import stats\n",
    "\n",
    "data = sample_before.copy()\n",
    "# Calculate the sample size\n",
    "n = len(data)\n",
    "\n",
    "# Calculate the sample mean\n",
    "mean = np.mean(data)\n",
    "\n",
    "# Calculate the sample standard deviation\n",
    "std = np.std(data)\n",
    "\n",
    "# Calculate the degrees of freedom\n",
    "df2 = n - 1\n",
    "\n",
    "# Set the confidence level\n",
    "confidence = 0.95\n",
    "\n",
    "# Calculate the t-value based on the confidence level and degrees of freedom\n",
    "t_value = stats.t.ppf((1 + confidence) / 2, df2)\n",
    "\n",
    "# Calculate the standard error\n",
    "std_error = std / np.sqrt(n)\n",
    "\n",
    "# Calculate the margin of error\n",
    "margin_of_error = t_value * std_error\n",
    "\n",
    "# Calculate the confidence interval\n",
    "lower_bound = mean - margin_of_error\n",
    "upper_bound = mean + margin_of_error\n",
    "\n",
    "# Print the confidence interval\n",
    "print(\"Confidence Interval: [{:.2f}, {:.2f}]\".format(lower_bound, upper_bound))\n"
   ]
  },
  {
   "attachments": {},
   "cell_type": "markdown",
   "metadata": {},
   "source": [
    "### Calculate the confidence interval for 'Blood Pressure After'"
   ]
  },
  {
   "cell_type": "code",
   "execution_count": 19,
   "metadata": {},
   "outputs": [],
   "source": [
    "# After \n",
    "sample_data_after = df.iloc[:,2].values"
   ]
  },
  {
   "cell_type": "code",
   "execution_count": 20,
   "metadata": {},
   "outputs": [
    {
     "name": "stdout",
     "output_type": "stream",
     "text": [
      "Confidence Interval: [127.00, 129.72]\n"
     ]
    }
   ],
   "source": [
    "data = sample_data_after.copy()\n",
    "# Calculate the sample size\n",
    "n = len(data)\n",
    "\n",
    "# Calculate the sample mean\n",
    "mean = np.mean(data)\n",
    "\n",
    "# Calculate the sample standard deviation\n",
    "std = np.std(data)\n",
    "\n",
    "# Calculate the degrees of freedom\n",
    "df3 = n - 1\n",
    "\n",
    "# Set the confidence level\n",
    "confidence = 0.95\n",
    "\n",
    "# Calculate the t-value based on the confidence level and degrees of freedom\n",
    "t_value = stats.t.ppf((1 + confidence) / 2, df2)\n",
    "\n",
    "# Calculate the standard error\n",
    "std_error = std / np.sqrt(n)\n",
    "\n",
    "# Calculate the margin of error\n",
    "margin_of_error = t_value * std_error\n",
    "\n",
    "# Calculate the confidence interval\n",
    "lower_bound = mean - margin_of_error\n",
    "upper_bound = mean + margin_of_error\n",
    "\n",
    "# Print the confidence interval\n",
    "print(\"Confidence Interval: [{:.2f}, {:.2f}]\".format(lower_bound, upper_bound))\n"
   ]
  },
  {
   "cell_type": "code",
   "execution_count": null,
   "metadata": {},
   "outputs": [],
   "source": []
  }
 ],
 "metadata": {
  "kernelspec": {
   "display_name": "python_placement",
   "language": "python",
   "name": "python3"
  },
  "language_info": {
   "codemirror_mode": {
    "name": "ipython",
    "version": 3
   },
   "file_extension": ".py",
   "mimetype": "text/x-python",
   "name": "python",
   "nbconvert_exporter": "python",
   "pygments_lexer": "ipython3",
   "version": "3.8.0"
  },
  "orig_nbformat": 4
 },
 "nbformat": 4,
 "nbformat_minor": 2
}
