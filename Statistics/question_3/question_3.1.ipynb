{
 "cells": [
  {
   "cell_type": "code",
   "execution_count": 1,
   "metadata": {},
   "outputs": [],
   "source": [
    "import pandas as pd"
   ]
  },
  {
   "cell_type": "code",
   "execution_count": 2,
   "metadata": {},
   "outputs": [],
   "source": [
    "df = pd.read_csv('data.csv')"
   ]
  },
  {
   "cell_type": "code",
   "execution_count": 7,
   "metadata": {},
   "outputs": [
    {
     "name": "stdout",
     "output_type": "stream",
     "text": [
      "Varaince Before Blood Pressure: 43.54\n",
      "Variance After Blood Pressure: 47.44\n",
      "Standard Deviation Before Blood Pressure: 6.6 \n",
      "Standard Deviation After Blood Pressure: 6.89\n"
     ]
    }
   ],
   "source": [
    "# Variance\n",
    "variance_before =df.iloc[:,1].var()\n",
    "variance_after = df.iloc[:,2].var()\n",
    "\n",
    "# Standard Deviation\n",
    "before_std = df.iloc[:,1].std()\n",
    "after_std = df.iloc[:,2].std()\n",
    "\n",
    "print(f\"Varaince Before Blood Pressure: {round(variance_before,2)}\")\n",
    "print(f\"Variance After Blood Pressure: {round(variance_after,2)}\")\n",
    "print(f\"Standard Deviation Before Blood Pressure: {round(before_std,2)} \")\n",
    "print(f\"Standard Deviation After Blood Pressure: {round(after_std,2)}\")"
   ]
  },
  {
   "cell_type": "code",
   "execution_count": null,
   "metadata": {},
   "outputs": [],
   "source": []
  }
 ],
 "metadata": {
  "kernelspec": {
   "display_name": "python_placement",
   "language": "python",
   "name": "python3"
  },
  "language_info": {
   "codemirror_mode": {
    "name": "ipython",
    "version": 3
   },
   "file_extension": ".py",
   "mimetype": "text/x-python",
   "name": "python",
   "nbconvert_exporter": "python",
   "pygments_lexer": "ipython3",
   "version": "3.8.0"
  },
  "orig_nbformat": 4
 },
 "nbformat": 4,
 "nbformat_minor": 2
}
